{
 "cells": [
  {
   "cell_type": "markdown",
   "id": "f501c2ff-3e04-4866-8a51-eccf18c9f9d2",
   "metadata": {},
   "source": [
    "# Chap.1 &mdash; Tabular Data and _pandas_ DataFrame\n",
    "\n",
    "_Jean-Christophe Taveau, Université de Bordeaux, 2023-2024_\n",
    "\n",
    "> **Pre-requisites**: Basics of Python - variables, loops, conditionals, functions"
   ]
  },
  {
   "cell_type": "markdown",
   "id": "aa1920a4-0498-4d5d-b323-7b9a262ff379",
   "metadata": {},
   "source": [
    "## 1. Introduction\n",
    "\n",
    "### 1.1. Reminder - Python _Dictionary_\n",
    "\n",
    "A _Dictionary_ is a collection of pairs key/value. It is defined by curly brackets followed by the pairs key/value separated by commas.\n",
    "\n",
    "> **Note**: A key is separated by its value by a colon <kbd>:</kbd>\n",
    "\n",
    "For example, the following dictionary `d` contains three pairs key/value:\n",
    "- `name` is the key and the _String_ `'Deep Learning in Forestry'` is the value\n",
    "- `year` and its value `2023` (a _number_)\n",
    "- `acronym` and the value `'BIP-DLF'` (_String_)\n"
   ]
  },
  {
   "cell_type": "code",
   "execution_count": 1,
   "id": "120b4fd4-a304-49f8-8d97-19b6755052cf",
   "metadata": {
    "ExecuteTime": {
     "end_time": "2024-02-09T14:10:13.451865Z",
     "start_time": "2024-02-09T14:10:13.440453Z"
    }
   },
   "outputs": [
    {
     "data": {
      "text/plain": "{'name': 'Deep Learning in Forestry', 'year': 2023, 'acronym': 'BIP-DLF'}"
     },
     "execution_count": 1,
     "metadata": {},
     "output_type": "execute_result"
    }
   ],
   "source": [
    "d = {'name': 'Deep Learning in Forestry', 'year': 2023, 'acronym': 'BIP-DLF'}\n",
    "d"
   ]
  },
  {
   "cell_type": "markdown",
   "id": "dbba5eae-303c-4f0d-9765-c53635792c4d",
   "metadata": {},
   "source": [
    "To read a value, you use the same notation as the _List_ by using square brackets. Instead of using an index, in this case, you use the key. For example, to read the value corresponding to the key `name`, you type..."
   ]
  },
  {
   "cell_type": "code",
   "execution_count": 2,
   "id": "13e4eae0-2d59-45f5-a1b0-6c1aea88007d",
   "metadata": {
    "ExecuteTime": {
     "end_time": "2024-02-09T14:10:32.621154Z",
     "start_time": "2024-02-09T14:10:32.543832Z"
    }
   },
   "outputs": [
    {
     "data": {
      "text/plain": "'Deep Learning in Forestry'"
     },
     "execution_count": 2,
     "metadata": {},
     "output_type": "execute_result"
    }
   ],
   "source": [
    "d['name']"
   ]
  },
  {
   "cell_type": "markdown",
   "id": "4fc9f8a8-ba35-4445-8f51-dc87202f8b35",
   "metadata": {},
   "source": [
    "### 1.2. Table\n",
    "\n",
    "Most of the time, in _Data Science_, we are using tabular data. A table is composed of rows and columns. For example, the table below contains three columns entitled `A`, `B`, and `C`, respectively.\n",
    "\n",
    "|  A |  B |  C |\n",
    "|----|----|----|\n",
    "|1 |2 |3|\n",
    "|4 |5 |6|\n",
    "|7 |8 |9|\n",
    "|10 |11 |12|\n",
    "\n",
    "> **Note**: A table is not limited to numbers (_int_ or _float_), it also may contain text (_String_). Usually, the columns are defined by headings. The rows may have specific names but usually, only the row index is used.\n",
    "\n",
    "> **Note**: The easiest way to load/save tabular data is to use the CSV file format (Comma Separated Values)."
   ]
  },
  {
   "cell_type": "markdown",
   "id": "d1004f10-c247-46b6-af72-5d6cea69e4e1",
   "metadata": {},
   "source": [
    "### 1.2.1. Defining a table with a Python _Dictionary_\n",
    "\n",
    "The simplest way is to proceed in two steps:\n",
    "1. Define each row as a _Dictionary_\n",
    "2. Put all the rows in a _List_\n",
    "\n",
    "The table is organized as a _List_ of _Dictionary_."
   ]
  },
  {
   "cell_type": "code",
   "execution_count": 3,
   "id": "d1db88f5-e41d-4780-a3e2-d760b94df8ba",
   "metadata": {
    "ExecuteTime": {
     "end_time": "2024-02-09T14:10:58.083866Z",
     "start_time": "2024-02-09T14:10:58.042323Z"
    }
   },
   "outputs": [
    {
     "data": {
      "text/plain": "({'A': 1, 'B': 2, 'C': 3},\n {'A': 4, 'B': 5, 'C': 6},\n {'A': 7, 'B': 8, 'C': 9},\n {'A': 10, 'B': 11, 'C': 12})"
     },
     "execution_count": 3,
     "metadata": {},
     "output_type": "execute_result"
    }
   ],
   "source": [
    "row0 = {'A': 1,'B':2,'C': 3}\n",
    "row1 = {'A': 4,'B':5,'C': 6}\n",
    "row2 = {'A': 7,'B':8,'C': 9}\n",
    "row3 = {'A': 10,'B':11,'C': 12}\n",
    "row0,row1,row2,row3"
   ]
  },
  {
   "cell_type": "code",
   "execution_count": 4,
   "id": "7be12431-7a93-465b-965b-f24c4520b897",
   "metadata": {
    "ExecuteTime": {
     "end_time": "2024-02-09T14:11:15.005068Z",
     "start_time": "2024-02-09T14:11:14.935046Z"
    }
   },
   "outputs": [
    {
     "data": {
      "text/plain": "[{'A': 1, 'B': 2, 'C': 3},\n {'A': 4, 'B': 5, 'C': 6},\n {'A': 7, 'B': 8, 'C': 9},\n {'A': 10, 'B': 11, 'C': 12}]"
     },
     "execution_count": 4,
     "metadata": {},
     "output_type": "execute_result"
    }
   ],
   "source": [
    "# Create a List from all the rows\n",
    "t = [\n",
    "    row0,\n",
    "    row1,\n",
    "    row2,\n",
    "    row3\n",
    "]\n",
    "t"
   ]
  },
  {
   "cell_type": "markdown",
   "source": [
    "### 1.2.2. Other example\n",
    "\n",
    "In a _Dictionary_, you can mix _Numbers_ and _String_ as in the example below.\n",
    "\n",
    "| year | university | city | country |\n",
    "|------|------------|------|---------|\n",
    "|2023  |Georg-August-Universität Göttingen |  Göttingen | Deutschland |\n",
    "|2024  |Rijksuniversiteit Groningen | Groningen | Nederland |\n",
    "|2025  |Université de Bordeaux | Bordeaux | France |"
   ],
   "metadata": {
    "collapsed": false
   },
   "id": "1429ed011ce6e830"
  },
  {
   "cell_type": "code",
   "execution_count": 5,
   "id": "91d6babb-6b65-42ac-a931-0d369908ded6",
   "metadata": {
    "ExecuteTime": {
     "end_time": "2024-02-09T14:11:54.115404Z",
     "start_time": "2024-02-09T14:11:54.073375Z"
    }
   },
   "outputs": [
    {
     "data": {
      "text/plain": "[{'year': 2023,\n  'university': 'Georg-August-Universität Göttingen',\n  'city': 'Göttingen',\n  'country': 'Deutschland'},\n {'year': 2024,\n  'university': 'Rijksuniversiteit Groningen',\n  'city': 'Groningen',\n  'country': 'Nederland'},\n {'year': 2025,\n  'university': 'Université de Bordeaux',\n  'city': 'Bordeaux',\n  'country': 'France'}]"
     },
     "execution_count": 5,
     "metadata": {},
     "output_type": "execute_result"
    }
   ],
   "source": [
    "table = [\n",
    "    {'year': 2023, 'university': 'Georg-August-Universität Göttingen', 'city': 'Göttingen', 'country': 'Deutschland'},\n",
    "    {'year': 2024, 'university': 'Rijksuniversiteit Groningen', 'city': 'Groningen', 'country': 'Nederland'},\n",
    "    {'year': 2025, 'university': 'Université de Bordeaux', 'city': 'Bordeaux', 'country': 'France'}\n",
    "]\n",
    "table"
   ]
  },
  {
   "cell_type": "markdown",
   "id": "830028c1-0d2d-4bef-ac47-014db9a69dbe",
   "metadata": {},
   "source": [
    "### 1.3. DataFrame creation"
   ]
  },
  {
   "cell_type": "markdown",
   "id": "a4361dad-f2f3-4de0-ac64-56ef6f7744e6",
   "metadata": {},
   "source": [
    "#### 1.3.1. _DataFrame_\n",
    "\n",
    "The _DataFrame_ is really powerful and you can create it from different data structure like:\n",
    "1. _List_ of rows (each defined as _Dictionary_)\n",
    "2. _List_ of rows (defined as _List_)\n",
    "3. _Dictionary_ of columns (defined as _List_)\n",
    "\n",
    "\n",
    "The first step is to import the package `pandas` (**line 1**), then, you create a _DataFrame_ from the previous `table`(a _List_ of _Dictionary_) (**line 2**). \n",
    "\n",
    "To display, the _DataFrame_ `df` simply type the variable name (without `print(..)`) (**line 3**). Automatically, the jupyter notebook recognizes the _DataFrame_ and apply a pretty layout.\n"
   ]
  },
  {
   "cell_type": "code",
   "execution_count": 6,
   "id": "5b2e4845-4c4d-446c-812c-4a72214991da",
   "metadata": {
    "ExecuteTime": {
     "end_time": "2024-02-09T14:12:57.200556Z",
     "start_time": "2024-02-09T14:12:47.150202Z"
    }
   },
   "outputs": [
    {
     "data": {
      "text/plain": "   year                          university       city      country\n0  2023  Georg-August-Universität Göttingen  Göttingen  Deutschland\n1  2024         Rijksuniversiteit Groningen  Groningen    Nederland\n2  2025              Université de Bordeaux   Bordeaux       France",
      "text/html": "<div>\n<style scoped>\n    .dataframe tbody tr th:only-of-type {\n        vertical-align: middle;\n    }\n\n    .dataframe tbody tr th {\n        vertical-align: top;\n    }\n\n    .dataframe thead th {\n        text-align: right;\n    }\n</style>\n<table border=\"1\" class=\"dataframe\">\n  <thead>\n    <tr style=\"text-align: right;\">\n      <th></th>\n      <th>year</th>\n      <th>university</th>\n      <th>city</th>\n      <th>country</th>\n    </tr>\n  </thead>\n  <tbody>\n    <tr>\n      <th>0</th>\n      <td>2023</td>\n      <td>Georg-August-Universität Göttingen</td>\n      <td>Göttingen</td>\n      <td>Deutschland</td>\n    </tr>\n    <tr>\n      <th>1</th>\n      <td>2024</td>\n      <td>Rijksuniversiteit Groningen</td>\n      <td>Groningen</td>\n      <td>Nederland</td>\n    </tr>\n    <tr>\n      <th>2</th>\n      <td>2025</td>\n      <td>Université de Bordeaux</td>\n      <td>Bordeaux</td>\n      <td>France</td>\n    </tr>\n  </tbody>\n</table>\n</div>"
     },
     "execution_count": 6,
     "metadata": {},
     "output_type": "execute_result"
    }
   ],
   "source": [
    "import pandas as pd\n",
    "df = pd.DataFrame(table)\n",
    "df"
   ]
  },
  {
   "cell_type": "markdown",
   "id": "63665883-2137-45e3-a55a-21e93389eaca",
   "metadata": {},
   "source": [
    "> **note**: If you type `print(df)` no layout is applied... see the difference of display with the previous cell."
   ]
  },
  {
   "cell_type": "code",
   "execution_count": 7,
   "id": "215dc131-5191-435b-afa9-3c0f6ed9b756",
   "metadata": {
    "ExecuteTime": {
     "end_time": "2024-02-09T14:13:06.285540Z",
     "start_time": "2024-02-09T14:13:06.235698Z"
    }
   },
   "outputs": [
    {
     "name": "stdout",
     "output_type": "stream",
     "text": [
      "   year                          university       city      country\n",
      "0  2023  Georg-August-Universität Göttingen  Göttingen  Deutschland\n",
      "1  2024         Rijksuniversiteit Groningen  Groningen    Nederland\n",
      "2  2025              Université de Bordeaux   Bordeaux       France\n"
     ]
    }
   ],
   "source": [
    "print(df)"
   ]
  },
  {
   "cell_type": "markdown",
   "id": "04ab9717-058c-49cf-8d12-100357d3f496",
   "metadata": {},
   "source": [
    "#### 1.3.2. Using a matrix (_List_ of _List_)\n"
   ]
  },
  {
   "cell_type": "code",
   "execution_count": 8,
   "id": "a0b45944-06bf-4f18-80de-c019b2ad5749",
   "metadata": {
    "ExecuteTime": {
     "end_time": "2024-02-09T14:13:17.395011Z",
     "start_time": "2024-02-09T14:13:17.384594Z"
    }
   },
   "outputs": [
    {
     "data": {
      "text/plain": "[[2023, 'Georg-August-Universität Göttingen', 'Goettingen', 'Deutschland'],\n [2024, 'Rijksuniversiteit Groningen', 'Groningen', 'Nederland'],\n [2025, 'Université de Bordeaux', 'Bordeaux', 'France']]"
     },
     "execution_count": 8,
     "metadata": {},
     "output_type": "execute_result"
    }
   ],
   "source": [
    "table_matrix = [\n",
    "    [2023,'Georg-August-Universität Göttingen','Goettingen', 'Deutschland'],\n",
    "    [2024, 'Rijksuniversiteit Groningen', 'Groningen', 'Nederland'],\n",
    "    [2025, 'Université de Bordeaux', 'Bordeaux', 'France']\n",
    "]\n",
    "table_matrix"
   ]
  },
  {
   "cell_type": "code",
   "execution_count": 9,
   "id": "cd7fa7b1-869c-47be-8339-b5eca2430c2a",
   "metadata": {
    "ExecuteTime": {
     "end_time": "2024-02-09T14:13:22.215444Z",
     "start_time": "2024-02-09T14:13:22.178040Z"
    }
   },
   "outputs": [
    {
     "data": {
      "text/plain": "   year                          university        city      country\n0  2023  Georg-August-Universität Göttingen  Goettingen  Deutschland\n1  2024         Rijksuniversiteit Groningen   Groningen    Nederland\n2  2025              Université de Bordeaux    Bordeaux       France",
      "text/html": "<div>\n<style scoped>\n    .dataframe tbody tr th:only-of-type {\n        vertical-align: middle;\n    }\n\n    .dataframe tbody tr th {\n        vertical-align: top;\n    }\n\n    .dataframe thead th {\n        text-align: right;\n    }\n</style>\n<table border=\"1\" class=\"dataframe\">\n  <thead>\n    <tr style=\"text-align: right;\">\n      <th></th>\n      <th>year</th>\n      <th>university</th>\n      <th>city</th>\n      <th>country</th>\n    </tr>\n  </thead>\n  <tbody>\n    <tr>\n      <th>0</th>\n      <td>2023</td>\n      <td>Georg-August-Universität Göttingen</td>\n      <td>Goettingen</td>\n      <td>Deutschland</td>\n    </tr>\n    <tr>\n      <th>1</th>\n      <td>2024</td>\n      <td>Rijksuniversiteit Groningen</td>\n      <td>Groningen</td>\n      <td>Nederland</td>\n    </tr>\n    <tr>\n      <th>2</th>\n      <td>2025</td>\n      <td>Université de Bordeaux</td>\n      <td>Bordeaux</td>\n      <td>France</td>\n    </tr>\n  </tbody>\n</table>\n</div>"
     },
     "execution_count": 9,
     "metadata": {},
     "output_type": "execute_result"
    }
   ],
   "source": [
    "df_mtx = pd.DataFrame(table_matrix,columns=['year','university','city','country'])\n",
    "df_mtx"
   ]
  },
  {
   "cell_type": "markdown",
   "id": "fba08160-a0a6-4fac-a3b9-7d2c32b9159f",
   "metadata": {},
   "source": [
    "#### 1.3.3. _Dictionary_ by columns"
   ]
  },
  {
   "cell_type": "code",
   "execution_count": 10,
   "id": "2cdb75fe-d896-455d-989d-27a116e589fb",
   "metadata": {
    "ExecuteTime": {
     "end_time": "2024-02-09T14:13:39.878666Z",
     "start_time": "2024-02-09T14:13:39.867929Z"
    }
   },
   "outputs": [
    {
     "data": {
      "text/plain": "{'year': [2023, 2024, 2025],\n 'university': ['Georg-August-Universität Göttingen',\n  'Rijksuniversiteit Groningen',\n  'Université de Bordeaux'],\n 'city': ['Goettingen', 'Groningen', 'Bordeaux'],\n 'country': ['Deutschland', 'Nederland', 'France']}"
     },
     "execution_count": 10,
     "metadata": {},
     "output_type": "execute_result"
    }
   ],
   "source": [
    "table_cols = {\n",
    "    'year': [2023,2024,2025],\n",
    "    'university': ['Georg-August-Universität Göttingen','Rijksuniversiteit Groningen','Université de Bordeaux'],\n",
    "    'city': ['Goettingen', 'Groningen','Bordeaux'],\n",
    "    'country': ['Deutschland','Nederland','France']\n",
    "}\n",
    "table_cols"
   ]
  },
  {
   "cell_type": "code",
   "execution_count": 11,
   "id": "65ee5de6-39fb-4665-9833-9625c9abfd41",
   "metadata": {
    "ExecuteTime": {
     "end_time": "2024-02-09T14:13:48.697538Z",
     "start_time": "2024-02-09T14:13:48.661632Z"
    }
   },
   "outputs": [
    {
     "data": {
      "text/plain": "   year                          university        city      country\n0  2023  Georg-August-Universität Göttingen  Goettingen  Deutschland\n1  2024         Rijksuniversiteit Groningen   Groningen    Nederland\n2  2025              Université de Bordeaux    Bordeaux       France",
      "text/html": "<div>\n<style scoped>\n    .dataframe tbody tr th:only-of-type {\n        vertical-align: middle;\n    }\n\n    .dataframe tbody tr th {\n        vertical-align: top;\n    }\n\n    .dataframe thead th {\n        text-align: right;\n    }\n</style>\n<table border=\"1\" class=\"dataframe\">\n  <thead>\n    <tr style=\"text-align: right;\">\n      <th></th>\n      <th>year</th>\n      <th>university</th>\n      <th>city</th>\n      <th>country</th>\n    </tr>\n  </thead>\n  <tbody>\n    <tr>\n      <th>0</th>\n      <td>2023</td>\n      <td>Georg-August-Universität Göttingen</td>\n      <td>Goettingen</td>\n      <td>Deutschland</td>\n    </tr>\n    <tr>\n      <th>1</th>\n      <td>2024</td>\n      <td>Rijksuniversiteit Groningen</td>\n      <td>Groningen</td>\n      <td>Nederland</td>\n    </tr>\n    <tr>\n      <th>2</th>\n      <td>2025</td>\n      <td>Université de Bordeaux</td>\n      <td>Bordeaux</td>\n      <td>France</td>\n    </tr>\n  </tbody>\n</table>\n</div>"
     },
     "execution_count": 11,
     "metadata": {},
     "output_type": "execute_result"
    }
   ],
   "source": [
    "dfcols = pd.DataFrame(table_cols)\n",
    "dfcols"
   ]
  },
  {
   "cell_type": "markdown",
   "id": "780705c0-f8bf-44db-9c66-ee8490bebb19",
   "metadata": {},
   "source": [
    "### 1.3.4. Setting the row index\n",
    "\n",
    "Sometimes, you "
   ]
  },
  {
   "cell_type": "markdown",
   "id": "b1db500b-b4e8-4856-9dc8-53f13be618f7",
   "metadata": {},
   "source": [
    "#### 1.3.4.1. Using a _List_ of index\n",
    "\n",
    "First, you need to define a _Index_ object from the _List_ of index.\n",
    "Second, use the function `set_index(...)`for setting the indexes.\n",
    "\n",
    "> **Note**: The argument `inplace=True` modifies the current _DataFrame_."
   ]
  },
  {
   "cell_type": "code",
   "execution_count": 12,
   "id": "fb176ca5-722a-47c2-a2f6-1cdad4b6c46e",
   "metadata": {
    "ExecuteTime": {
     "end_time": "2024-02-09T14:14:08.188042Z",
     "start_time": "2024-02-09T14:14:08.154407Z"
    }
   },
   "outputs": [
    {
     "data": {
      "text/plain": "        year                          university       city      country\nfirst   2023  Georg-August-Universität Göttingen  Göttingen  Deutschland\nsecond  2024         Rijksuniversiteit Groningen  Groningen    Nederland\nthird   2025              Université de Bordeaux   Bordeaux       France",
      "text/html": "<div>\n<style scoped>\n    .dataframe tbody tr th:only-of-type {\n        vertical-align: middle;\n    }\n\n    .dataframe tbody tr th {\n        vertical-align: top;\n    }\n\n    .dataframe thead th {\n        text-align: right;\n    }\n</style>\n<table border=\"1\" class=\"dataframe\">\n  <thead>\n    <tr style=\"text-align: right;\">\n      <th></th>\n      <th>year</th>\n      <th>university</th>\n      <th>city</th>\n      <th>country</th>\n    </tr>\n  </thead>\n  <tbody>\n    <tr>\n      <th>first</th>\n      <td>2023</td>\n      <td>Georg-August-Universität Göttingen</td>\n      <td>Göttingen</td>\n      <td>Deutschland</td>\n    </tr>\n    <tr>\n      <th>second</th>\n      <td>2024</td>\n      <td>Rijksuniversiteit Groningen</td>\n      <td>Groningen</td>\n      <td>Nederland</td>\n    </tr>\n    <tr>\n      <th>third</th>\n      <td>2025</td>\n      <td>Université de Bordeaux</td>\n      <td>Bordeaux</td>\n      <td>France</td>\n    </tr>\n  </tbody>\n</table>\n</div>"
     },
     "execution_count": 12,
     "metadata": {},
     "output_type": "execute_result"
    }
   ],
   "source": [
    "index = pd.Index(['first','second','third'])\n",
    "df.set_index(index,inplace=True)\n",
    "df"
   ]
  },
  {
   "cell_type": "markdown",
   "id": "0a297142-ad89-4e02-bcf5-09cab77c8faf",
   "metadata": {},
   "source": [
    "#### 1.3.4.2. Using an existing column\n",
    "\n",
    "This is the simplest method by using the same function `set_index(..)` and you give as first argument, the column name. \n",
    "\n",
    "> **Note**: The column is removed from the table.\n",
    "\n",
    "For example..."
   ]
  },
  {
   "cell_type": "code",
   "execution_count": 13,
   "id": "88828493-398f-4fc3-ac9f-b3d1c29cd63e",
   "metadata": {
    "ExecuteTime": {
     "end_time": "2024-02-09T14:14:23.671817Z",
     "start_time": "2024-02-09T14:14:23.604056Z"
    }
   },
   "outputs": [
    {
     "data": {
      "text/plain": "           year                          university      country\ncity                                                            \nGöttingen  2023  Georg-August-Universität Göttingen  Deutschland\nGroningen  2024         Rijksuniversiteit Groningen    Nederland\nBordeaux   2025              Université de Bordeaux       France",
      "text/html": "<div>\n<style scoped>\n    .dataframe tbody tr th:only-of-type {\n        vertical-align: middle;\n    }\n\n    .dataframe tbody tr th {\n        vertical-align: top;\n    }\n\n    .dataframe thead th {\n        text-align: right;\n    }\n</style>\n<table border=\"1\" class=\"dataframe\">\n  <thead>\n    <tr style=\"text-align: right;\">\n      <th></th>\n      <th>year</th>\n      <th>university</th>\n      <th>country</th>\n    </tr>\n    <tr>\n      <th>city</th>\n      <th></th>\n      <th></th>\n      <th></th>\n    </tr>\n  </thead>\n  <tbody>\n    <tr>\n      <th>Göttingen</th>\n      <td>2023</td>\n      <td>Georg-August-Universität Göttingen</td>\n      <td>Deutschland</td>\n    </tr>\n    <tr>\n      <th>Groningen</th>\n      <td>2024</td>\n      <td>Rijksuniversiteit Groningen</td>\n      <td>Nederland</td>\n    </tr>\n    <tr>\n      <th>Bordeaux</th>\n      <td>2025</td>\n      <td>Université de Bordeaux</td>\n      <td>France</td>\n    </tr>\n  </tbody>\n</table>\n</div>"
     },
     "execution_count": 13,
     "metadata": {},
     "output_type": "execute_result"
    }
   ],
   "source": [
    "df.set_index('city',inplace=True)\n",
    "df"
   ]
  },
  {
   "cell_type": "markdown",
   "id": "221a4299-28d5-4e0a-a5ac-b16e54393449",
   "metadata": {},
   "source": [
    "## 2. Reading content of a _DataFrame_\n",
    "\n",
    "A _DataFrame_ is a data structure optimized for manipulating rows and columns without using loops and conditionals as usual scripts in Python. \n",
    "\n",
    "The documentation is available on [official website](https://pandas.pydata.org/docs/reference/api/pandas.DataFrame.html).\n",
    "\n",
    "| Description of basic functionalities                           | function/property          |\n",
    "|----------------------------------------------------------------|----------------------------|\n",
    "| Read information                                               |  `df.info()  `             |\n",
    "| Read data types contained in the  table                        |  `df.dtypes`               |\n",
    "| Read a column in function of its heading                       | `df[<column heading>]`     |\n",
    "| Read a row based on its row title (_index_)                    |  `df.loc[<index>]`         |\n",
    "| Read a row based on the row index/number (start at 0)          |  `df.iloc[<index>]`        |"
   ]
  },
  {
   "cell_type": "code",
   "execution_count": 14,
   "id": "6aa42f14-9e24-491f-a12a-9a6267cf7a88",
   "metadata": {
    "ExecuteTime": {
     "end_time": "2024-02-09T14:14:40.922685Z",
     "start_time": "2024-02-09T14:14:40.884914Z"
    }
   },
   "outputs": [],
   "source": [
    "# Reset df\n",
    "df = pd.DataFrame(table,index=['first','second','third'])"
   ]
  },
  {
   "cell_type": "markdown",
   "id": "e91751b4-0232-43e9-acbb-33121cabeb9b",
   "metadata": {},
   "source": [
    "### 2.0 Exploring the dataframe\n",
    "\n",
    "Here are some basic tools to explore the dataframe.\n",
    "\n",
    "#### 2.0.1. Reading general information"
   ]
  },
  {
   "cell_type": "code",
   "execution_count": 15,
   "id": "eca54764-6d81-4e11-9119-90d824fb72b3",
   "metadata": {
    "ExecuteTime": {
     "end_time": "2024-02-09T14:14:44.422421Z",
     "start_time": "2024-02-09T14:14:44.372262Z"
    }
   },
   "outputs": [
    {
     "name": "stdout",
     "output_type": "stream",
     "text": [
      "<class 'pandas.core.frame.DataFrame'>\n",
      "Index: 3 entries, first to third\n",
      "Data columns (total 4 columns):\n",
      " #   Column      Non-Null Count  Dtype \n",
      "---  ------      --------------  ----- \n",
      " 0   year        3 non-null      int64 \n",
      " 1   university  3 non-null      object\n",
      " 2   city        3 non-null      object\n",
      " 3   country     3 non-null      object\n",
      "dtypes: int64(1), object(3)\n",
      "memory usage: 120.0+ bytes\n"
     ]
    }
   ],
   "source": [
    "df.info()"
   ]
  },
  {
   "cell_type": "markdown",
   "id": "d9abfad9-7df4-4d7a-850e-a0a0c7a95c92",
   "metadata": {},
   "source": [
    "#### 2.0.2. Get the row and column numbers (_shape_) \n",
    "\n",
    "Although the previous function/method `info()` gives you this information, it is more convenient to use the property `shape` returning a _tuple_ composed of:\n",
    "- (i) the row number\n",
    "- (ii) the column number"
   ]
  },
  {
   "cell_type": "code",
   "execution_count": 16,
   "id": "b78b9bc7-a002-4d33-890b-175a89a9fcc4",
   "metadata": {
    "ExecuteTime": {
     "end_time": "2024-02-09T14:14:47.872716Z",
     "start_time": "2024-02-09T14:14:47.852563Z"
    }
   },
   "outputs": [
    {
     "data": {
      "text/plain": "(3, 4)"
     },
     "execution_count": 16,
     "metadata": {},
     "output_type": "execute_result"
    }
   ],
   "source": [
    "df.shape"
   ]
  },
  {
   "cell_type": "markdown",
   "id": "c23f7625-a4c7-4fb4-81e2-1cb3b46b3346",
   "metadata": {},
   "source": [
    "### 2.1. Columns\n",
    "\n",
    "Two syntaxes are possible:\n",
    "- Like a Python _Dictionary_, by giving the column name enclosed by quotes (single or double) and delimited by square brackets.\n",
    "- Like a Python object, the column name is preceded by a dot \".\". It only works if the column name is a single word (no space).\n",
    "\n",
    "Here are the two syntaxes to read the column `city`."
   ]
  },
  {
   "cell_type": "code",
   "execution_count": 17,
   "id": "92899645-0cf5-44cb-8abc-50c8b31561a9",
   "metadata": {
    "ExecuteTime": {
     "end_time": "2024-02-09T14:14:50.906385Z",
     "start_time": "2024-02-09T14:14:50.874337Z"
    }
   },
   "outputs": [
    {
     "data": {
      "text/plain": "(first     Göttingen\n second    Groningen\n third      Bordeaux\n Name: city, dtype: object,\n first     Göttingen\n second    Groningen\n third      Bordeaux\n Name: city, dtype: object)"
     },
     "execution_count": 17,
     "metadata": {},
     "output_type": "execute_result"
    }
   ],
   "source": [
    "df['city'],df.city"
   ]
  },
  {
   "cell_type": "code",
   "execution_count": 18,
   "id": "d98e3fbc-a8cd-42da-a8d9-07fd35efcbd8",
   "metadata": {
    "ExecuteTime": {
     "end_time": "2024-02-09T14:14:55.352229Z",
     "start_time": "2024-02-09T14:14:55.341582Z"
    }
   },
   "outputs": [
    {
     "data": {
      "text/plain": "pandas.core.series.Series"
     },
     "execution_count": 18,
     "metadata": {},
     "output_type": "execute_result"
    }
   ],
   "source": [
    "type(df.city)"
   ]
  },
  {
   "cell_type": "code",
   "execution_count": 19,
   "id": "03986853-7552-4b8a-a150-b16c7a66d605",
   "metadata": {
    "ExecuteTime": {
     "end_time": "2024-02-09T14:14:57.305922Z",
     "start_time": "2024-02-09T14:14:57.236975Z"
    }
   },
   "outputs": [
    {
     "data": {
      "text/plain": "        year       city\nfirst   2023  Göttingen\nsecond  2024  Groningen\nthird   2025   Bordeaux",
      "text/html": "<div>\n<style scoped>\n    .dataframe tbody tr th:only-of-type {\n        vertical-align: middle;\n    }\n\n    .dataframe tbody tr th {\n        vertical-align: top;\n    }\n\n    .dataframe thead th {\n        text-align: right;\n    }\n</style>\n<table border=\"1\" class=\"dataframe\">\n  <thead>\n    <tr style=\"text-align: right;\">\n      <th></th>\n      <th>year</th>\n      <th>city</th>\n    </tr>\n  </thead>\n  <tbody>\n    <tr>\n      <th>first</th>\n      <td>2023</td>\n      <td>Göttingen</td>\n    </tr>\n    <tr>\n      <th>second</th>\n      <td>2024</td>\n      <td>Groningen</td>\n    </tr>\n    <tr>\n      <th>third</th>\n      <td>2025</td>\n      <td>Bordeaux</td>\n    </tr>\n  </tbody>\n</table>\n</div>"
     },
     "execution_count": 19,
     "metadata": {},
     "output_type": "execute_result"
    }
   ],
   "source": [
    "df[['year','city']]"
   ]
  },
  {
   "cell_type": "markdown",
   "id": "28f83473-72bf-4038-84cb-30357672eaa9",
   "metadata": {},
   "source": [
    "### 2.2. Rows\n",
    "\n",
    "Two properties may be used:\n",
    "- The property `loc[..]` based on the index name.\n",
    "- The function `iloc[..]` based on the index value (first row is equal to 0).\n"
   ]
  },
  {
   "cell_type": "code",
   "execution_count": 20,
   "id": "bb400255-114d-47a3-8cb2-cc1df58d8cba",
   "metadata": {
    "ExecuteTime": {
     "end_time": "2024-02-09T14:15:00.032937Z",
     "start_time": "2024-02-09T14:15:00.021099Z"
    }
   },
   "outputs": [
    {
     "data": {
      "text/plain": "year                                 2024\nuniversity    Rijksuniversiteit Groningen\ncity                            Groningen\ncountry                         Nederland\nName: second, dtype: object"
     },
     "execution_count": 20,
     "metadata": {},
     "output_type": "execute_result"
    }
   ],
   "source": [
    "df.loc['second']"
   ]
  },
  {
   "cell_type": "code",
   "execution_count": 21,
   "id": "1a74e764-268d-4bf9-9133-00fad52ce6da",
   "metadata": {
    "ExecuteTime": {
     "end_time": "2024-02-09T14:15:01.225690Z",
     "start_time": "2024-02-09T14:15:01.188923Z"
    }
   },
   "outputs": [
    {
     "data": {
      "text/plain": "       year                          university       city      country\nfirst  2023  Georg-August-Universität Göttingen  Göttingen  Deutschland\nthird  2025              Université de Bordeaux   Bordeaux       France",
      "text/html": "<div>\n<style scoped>\n    .dataframe tbody tr th:only-of-type {\n        vertical-align: middle;\n    }\n\n    .dataframe tbody tr th {\n        vertical-align: top;\n    }\n\n    .dataframe thead th {\n        text-align: right;\n    }\n</style>\n<table border=\"1\" class=\"dataframe\">\n  <thead>\n    <tr style=\"text-align: right;\">\n      <th></th>\n      <th>year</th>\n      <th>university</th>\n      <th>city</th>\n      <th>country</th>\n    </tr>\n  </thead>\n  <tbody>\n    <tr>\n      <th>first</th>\n      <td>2023</td>\n      <td>Georg-August-Universität Göttingen</td>\n      <td>Göttingen</td>\n      <td>Deutschland</td>\n    </tr>\n    <tr>\n      <th>third</th>\n      <td>2025</td>\n      <td>Université de Bordeaux</td>\n      <td>Bordeaux</td>\n      <td>France</td>\n    </tr>\n  </tbody>\n</table>\n</div>"
     },
     "execution_count": 21,
     "metadata": {},
     "output_type": "execute_result"
    }
   ],
   "source": [
    "df.loc[['first','third']]"
   ]
  },
  {
   "cell_type": "code",
   "execution_count": 22,
   "id": "4cb8ab03-b9ff-4db3-a44f-d0b8b373f517",
   "metadata": {
    "ExecuteTime": {
     "end_time": "2024-02-09T14:15:02.257436Z",
     "start_time": "2024-02-09T14:15:02.236557Z"
    }
   },
   "outputs": [
    {
     "data": {
      "text/plain": "year                                        2023\nuniversity    Georg-August-Universität Göttingen\ncity                                   Göttingen\ncountry                              Deutschland\nName: first, dtype: object"
     },
     "execution_count": 22,
     "metadata": {},
     "output_type": "execute_result"
    }
   ],
   "source": [
    "df.iloc[0]"
   ]
  },
  {
   "cell_type": "code",
   "execution_count": 23,
   "id": "2e0a96d6-11d2-4e2d-85ef-6e7e8611c302",
   "metadata": {
    "ExecuteTime": {
     "end_time": "2024-02-09T14:15:03.414098Z",
     "start_time": "2024-02-09T14:15:03.374672Z"
    }
   },
   "outputs": [
    {
     "data": {
      "text/plain": "       year                          university       city      country\nfirst  2023  Georg-August-Universität Göttingen  Göttingen  Deutschland\nthird  2025              Université de Bordeaux   Bordeaux       France",
      "text/html": "<div>\n<style scoped>\n    .dataframe tbody tr th:only-of-type {\n        vertical-align: middle;\n    }\n\n    .dataframe tbody tr th {\n        vertical-align: top;\n    }\n\n    .dataframe thead th {\n        text-align: right;\n    }\n</style>\n<table border=\"1\" class=\"dataframe\">\n  <thead>\n    <tr style=\"text-align: right;\">\n      <th></th>\n      <th>year</th>\n      <th>university</th>\n      <th>city</th>\n      <th>country</th>\n    </tr>\n  </thead>\n  <tbody>\n    <tr>\n      <th>first</th>\n      <td>2023</td>\n      <td>Georg-August-Universität Göttingen</td>\n      <td>Göttingen</td>\n      <td>Deutschland</td>\n    </tr>\n    <tr>\n      <th>third</th>\n      <td>2025</td>\n      <td>Université de Bordeaux</td>\n      <td>Bordeaux</td>\n      <td>France</td>\n    </tr>\n  </tbody>\n</table>\n</div>"
     },
     "execution_count": 23,
     "metadata": {},
     "output_type": "execute_result"
    }
   ],
   "source": [
    "df.iloc[[0,2]]"
   ]
  },
  {
   "cell_type": "code",
   "execution_count": 24,
   "id": "e62ee51a-7729-427e-ab28-4a61fbeb869e",
   "metadata": {
    "ExecuteTime": {
     "end_time": "2024-02-09T14:15:05.163431Z",
     "start_time": "2024-02-09T14:15:05.121587Z"
    }
   },
   "outputs": [
    {
     "data": {
      "text/plain": "        year                          university       city      country\nfirst   2023  Georg-August-Universität Göttingen  Göttingen  Deutschland\nsecond  2024         Rijksuniversiteit Groningen  Groningen    Nederland",
      "text/html": "<div>\n<style scoped>\n    .dataframe tbody tr th:only-of-type {\n        vertical-align: middle;\n    }\n\n    .dataframe tbody tr th {\n        vertical-align: top;\n    }\n\n    .dataframe thead th {\n        text-align: right;\n    }\n</style>\n<table border=\"1\" class=\"dataframe\">\n  <thead>\n    <tr style=\"text-align: right;\">\n      <th></th>\n      <th>year</th>\n      <th>university</th>\n      <th>city</th>\n      <th>country</th>\n    </tr>\n  </thead>\n  <tbody>\n    <tr>\n      <th>first</th>\n      <td>2023</td>\n      <td>Georg-August-Universität Göttingen</td>\n      <td>Göttingen</td>\n      <td>Deutschland</td>\n    </tr>\n    <tr>\n      <th>second</th>\n      <td>2024</td>\n      <td>Rijksuniversiteit Groningen</td>\n      <td>Groningen</td>\n      <td>Nederland</td>\n    </tr>\n  </tbody>\n</table>\n</div>"
     },
     "execution_count": 24,
     "metadata": {},
     "output_type": "execute_result"
    }
   ],
   "source": [
    "df.iloc[:2]"
   ]
  },
  {
   "cell_type": "markdown",
   "id": "a2b4cd12-e30e-4b97-9898-d97540858a4a",
   "metadata": {},
   "source": [
    "### 2.2. Cells\n",
    "\n",
    "We are using the same properties as before `loc[..]` and `iloc[..]`.\n",
    "\n",
    "#### 2.2.1. Reading a single cell\n",
    "\n",
    "To read a cell, you use the square brackets syntax and set the row followed by the column `[<row>,<column>]`."
   ]
  },
  {
   "cell_type": "code",
   "execution_count": 25,
   "id": "5de7ba1d-df91-43bd-ba16-b21c1aa7a693",
   "metadata": {
    "ExecuteTime": {
     "end_time": "2024-02-09T14:15:33.379707Z",
     "start_time": "2024-02-09T14:15:33.369457Z"
    }
   },
   "outputs": [
    {
     "data": {
      "text/plain": "'Nederland'"
     },
     "execution_count": 25,
     "metadata": {},
     "output_type": "execute_result"
    }
   ],
   "source": [
    "df.loc['second','country']"
   ]
  },
  {
   "cell_type": "code",
   "execution_count": 26,
   "id": "50548ea4-c877-4bfe-8d38-8ceddec6bd96",
   "metadata": {
    "ExecuteTime": {
     "end_time": "2024-02-09T14:15:34.928429Z",
     "start_time": "2024-02-09T14:15:34.908396Z"
    }
   },
   "outputs": [
    {
     "data": {
      "text/plain": "'Nederland'"
     },
     "execution_count": 26,
     "metadata": {},
     "output_type": "execute_result"
    }
   ],
   "source": [
    "df.iloc[1,3]"
   ]
  },
  {
   "cell_type": "markdown",
   "id": "9b1cc2f8-ca2e-45d1-9fce-f779a18db0fd",
   "metadata": {},
   "source": [
    "#### 2.2.2. Reading multiple cells"
   ]
  },
  {
   "cell_type": "code",
   "execution_count": 27,
   "id": "cd052ad8-381b-4ce1-8c91-eec94d70a2fd",
   "metadata": {
    "ExecuteTime": {
     "end_time": "2024-02-09T14:15:38.846723Z",
     "start_time": "2024-02-09T14:15:38.805436Z"
    }
   },
   "outputs": [
    {
     "data": {
      "text/plain": "first    Deutschland\nthird         France\nName: country, dtype: object"
     },
     "execution_count": 27,
     "metadata": {},
     "output_type": "execute_result"
    }
   ],
   "source": [
    "df.iloc[[0,2],3]"
   ]
  },
  {
   "cell_type": "markdown",
   "id": "4fb24c44-2c10-4eec-b01b-098c75ff9819",
   "metadata": {},
   "source": [
    "## 3. Manipulating a _DataFrame_\n",
    "\n",
    "### 3.1. Adding column(s)"
   ]
  },
  {
   "cell_type": "code",
   "execution_count": 28,
   "id": "e6c958e5-f7b9-415b-bf43-ffc321754bf7",
   "metadata": {
    "ExecuteTime": {
     "end_time": "2024-02-09T14:15:44.536917Z",
     "start_time": "2024-02-09T14:15:44.505498Z"
    }
   },
   "outputs": [
    {
     "data": {
      "text/plain": "        year                          university       city      country\nfirst   2023  Georg-August-Universität Göttingen  Göttingen  Deutschland\nsecond  2024         Rijksuniversiteit Groningen  Groningen    Nederland\nthird   2025              Université de Bordeaux   Bordeaux       France",
      "text/html": "<div>\n<style scoped>\n    .dataframe tbody tr th:only-of-type {\n        vertical-align: middle;\n    }\n\n    .dataframe tbody tr th {\n        vertical-align: top;\n    }\n\n    .dataframe thead th {\n        text-align: right;\n    }\n</style>\n<table border=\"1\" class=\"dataframe\">\n  <thead>\n    <tr style=\"text-align: right;\">\n      <th></th>\n      <th>year</th>\n      <th>university</th>\n      <th>city</th>\n      <th>country</th>\n    </tr>\n  </thead>\n  <tbody>\n    <tr>\n      <th>first</th>\n      <td>2023</td>\n      <td>Georg-August-Universität Göttingen</td>\n      <td>Göttingen</td>\n      <td>Deutschland</td>\n    </tr>\n    <tr>\n      <th>second</th>\n      <td>2024</td>\n      <td>Rijksuniversiteit Groningen</td>\n      <td>Groningen</td>\n      <td>Nederland</td>\n    </tr>\n    <tr>\n      <th>third</th>\n      <td>2025</td>\n      <td>Université de Bordeaux</td>\n      <td>Bordeaux</td>\n      <td>France</td>\n    </tr>\n  </tbody>\n</table>\n</div>"
     },
     "execution_count": 28,
     "metadata": {},
     "output_type": "execute_result"
    }
   ],
   "source": [
    "# Reset df for sake of convenience\n",
    "df = pd.DataFrame(table,index=['first','second','third'])\n",
    "df"
   ]
  },
  {
   "cell_type": "code",
   "execution_count": 29,
   "id": "ff3b80b8-ff52-48cc-8fc5-bc598d66689b",
   "metadata": {
    "ExecuteTime": {
     "end_time": "2024-02-09T14:15:45.873223Z",
     "start_time": "2024-02-09T14:15:45.847107Z"
    }
   },
   "outputs": [
    {
     "data": {
      "text/plain": "        year                          university       city      country  \\\nfirst   2023  Georg-August-Universität Göttingen  Göttingen  Deutschland   \nsecond  2024         Rijksuniversiteit Groningen  Groningen    Nederland   \nthird   2025              Université de Bordeaux   Bordeaux       France   \n\n        city_pop  city_area  \nfirst     116557     116.89  \nsecond    238147     197.96  \nthird     259809      49.36  ",
      "text/html": "<div>\n<style scoped>\n    .dataframe tbody tr th:only-of-type {\n        vertical-align: middle;\n    }\n\n    .dataframe tbody tr th {\n        vertical-align: top;\n    }\n\n    .dataframe thead th {\n        text-align: right;\n    }\n</style>\n<table border=\"1\" class=\"dataframe\">\n  <thead>\n    <tr style=\"text-align: right;\">\n      <th></th>\n      <th>year</th>\n      <th>university</th>\n      <th>city</th>\n      <th>country</th>\n      <th>city_pop</th>\n      <th>city_area</th>\n    </tr>\n  </thead>\n  <tbody>\n    <tr>\n      <th>first</th>\n      <td>2023</td>\n      <td>Georg-August-Universität Göttingen</td>\n      <td>Göttingen</td>\n      <td>Deutschland</td>\n      <td>116557</td>\n      <td>116.89</td>\n    </tr>\n    <tr>\n      <th>second</th>\n      <td>2024</td>\n      <td>Rijksuniversiteit Groningen</td>\n      <td>Groningen</td>\n      <td>Nederland</td>\n      <td>238147</td>\n      <td>197.96</td>\n    </tr>\n    <tr>\n      <th>third</th>\n      <td>2025</td>\n      <td>Université de Bordeaux</td>\n      <td>Bordeaux</td>\n      <td>France</td>\n      <td>259809</td>\n      <td>49.36</td>\n    </tr>\n  </tbody>\n</table>\n</div>"
     },
     "execution_count": 29,
     "metadata": {},
     "output_type": "execute_result"
    }
   ],
   "source": [
    "# Source: Wikipedia\n",
    "df['city_pop'] = [116557,238147,259809]\n",
    "df['city_area'] = [116.89,197.96 ,49.36] # km2\n",
    "df"
   ]
  },
  {
   "cell_type": "code",
   "execution_count": 30,
   "id": "6d1ad0db-8b27-4467-9b9b-5abbde38c835",
   "metadata": {
    "ExecuteTime": {
     "end_time": "2024-02-09T14:15:47.136463Z",
     "start_time": "2024-02-09T14:15:47.023769Z"
    }
   },
   "outputs": [
    {
     "data": {
      "text/plain": "        year                          university       city      country  \\\nfirst   2023  Georg-August-Universität Göttingen  Göttingen  Deutschland   \nsecond  2024         Rijksuniversiteit Groningen  Groningen    Nederland   \nthird   2025              Université de Bordeaux   Bordeaux       France   \n\n        city_pop  city_area  city_density  \nfirst     116557     116.89    997.151168  \nsecond    238147     197.96   1203.005658  \nthird     259809      49.36   5263.553485  ",
      "text/html": "<div>\n<style scoped>\n    .dataframe tbody tr th:only-of-type {\n        vertical-align: middle;\n    }\n\n    .dataframe tbody tr th {\n        vertical-align: top;\n    }\n\n    .dataframe thead th {\n        text-align: right;\n    }\n</style>\n<table border=\"1\" class=\"dataframe\">\n  <thead>\n    <tr style=\"text-align: right;\">\n      <th></th>\n      <th>year</th>\n      <th>university</th>\n      <th>city</th>\n      <th>country</th>\n      <th>city_pop</th>\n      <th>city_area</th>\n      <th>city_density</th>\n    </tr>\n  </thead>\n  <tbody>\n    <tr>\n      <th>first</th>\n      <td>2023</td>\n      <td>Georg-August-Universität Göttingen</td>\n      <td>Göttingen</td>\n      <td>Deutschland</td>\n      <td>116557</td>\n      <td>116.89</td>\n      <td>997.151168</td>\n    </tr>\n    <tr>\n      <th>second</th>\n      <td>2024</td>\n      <td>Rijksuniversiteit Groningen</td>\n      <td>Groningen</td>\n      <td>Nederland</td>\n      <td>238147</td>\n      <td>197.96</td>\n      <td>1203.005658</td>\n    </tr>\n    <tr>\n      <th>third</th>\n      <td>2025</td>\n      <td>Université de Bordeaux</td>\n      <td>Bordeaux</td>\n      <td>France</td>\n      <td>259809</td>\n      <td>49.36</td>\n      <td>5263.553485</td>\n    </tr>\n  </tbody>\n</table>\n</div>"
     },
     "execution_count": 30,
     "metadata": {},
     "output_type": "execute_result"
    }
   ],
   "source": [
    "df['city_density'] = df.city_pop / df.city_area\n",
    "df"
   ]
  },
  {
   "cell_type": "markdown",
   "id": "de1c1f14-c148-4b8b-b87d-4cb39d4e8cf1",
   "metadata": {},
   "source": [
    "## 4. Exercises\n",
    "\n",
    "For all these questions, try by yourself to find out the solution by looking in the official documentation [pandas.DataFrame](https://pandas.pydata.org/docs/reference/api/pandas.DataFrame.html) or by exploring websites dedicated to programming.\n"
   ]
  },
  {
   "cell_type": "code",
   "execution_count": 31,
   "id": "d8533bd0-8530-4de8-8fad-534334aa73dd",
   "metadata": {
    "ExecuteTime": {
     "end_time": "2024-02-09T14:16:10.628701Z",
     "start_time": "2024-02-09T14:16:10.592863Z"
    }
   },
   "outputs": [
    {
     "data": {
      "text/plain": "        year                          university       city      country  \\\nfirst   2023  Georg-August-Universität Göttingen  Göttingen  Deutschland   \nsecond  2024         Rijksuniversiteit Groningen  Groningen    Nederland   \nthird   2025              Université de Bordeaux   Bordeaux       France   \n\n        city_pop  city_area  city_density  \nfirst     116557     116.89    997.151168  \nsecond    238147     197.96   1203.005658  \nthird     259809      49.36   5263.553485  ",
      "text/html": "<div>\n<style scoped>\n    .dataframe tbody tr th:only-of-type {\n        vertical-align: middle;\n    }\n\n    .dataframe tbody tr th {\n        vertical-align: top;\n    }\n\n    .dataframe thead th {\n        text-align: right;\n    }\n</style>\n<table border=\"1\" class=\"dataframe\">\n  <thead>\n    <tr style=\"text-align: right;\">\n      <th></th>\n      <th>year</th>\n      <th>university</th>\n      <th>city</th>\n      <th>country</th>\n      <th>city_pop</th>\n      <th>city_area</th>\n      <th>city_density</th>\n    </tr>\n  </thead>\n  <tbody>\n    <tr>\n      <th>first</th>\n      <td>2023</td>\n      <td>Georg-August-Universität Göttingen</td>\n      <td>Göttingen</td>\n      <td>Deutschland</td>\n      <td>116557</td>\n      <td>116.89</td>\n      <td>997.151168</td>\n    </tr>\n    <tr>\n      <th>second</th>\n      <td>2024</td>\n      <td>Rijksuniversiteit Groningen</td>\n      <td>Groningen</td>\n      <td>Nederland</td>\n      <td>238147</td>\n      <td>197.96</td>\n      <td>1203.005658</td>\n    </tr>\n    <tr>\n      <th>third</th>\n      <td>2025</td>\n      <td>Université de Bordeaux</td>\n      <td>Bordeaux</td>\n      <td>France</td>\n      <td>259809</td>\n      <td>49.36</td>\n      <td>5263.553485</td>\n    </tr>\n  </tbody>\n</table>\n</div>"
     },
     "execution_count": 31,
     "metadata": {},
     "output_type": "execute_result"
    }
   ],
   "source": [
    "# Reset df for sake of convenience\n",
    "df = pd.DataFrame(table,index=['first','second','third'])\n",
    "df['city_pop'] = [116557,238147,259809]\n",
    "df['city_area'] = [116.89,197.96 ,49.36] # km2\n",
    "df['city_density'] = df.city_pop / df.city_area\n",
    "df"
   ]
  },
  {
   "cell_type": "markdown",
   "id": "7276b0d0-7bea-4581-8880-e8f26e23d49b",
   "metadata": {},
   "source": [
    "### 4.0. Question: Get a cell content\n",
    "\n",
    "Using two different syntaxes, display the cell containing the word `Groningen`in the _DataFrame_ `df`."
   ]
  },
  {
   "cell_type": "code",
   "execution_count": 32,
   "id": "1927e81c-1cb2-44c9-8383-e20333d9fe61",
   "metadata": {
    "ExecuteTime": {
     "end_time": "2024-02-09T14:18:14.402827Z",
     "start_time": "2024-02-09T14:18:14.381095Z"
    }
   },
   "outputs": [
    {
     "data": {
      "text/plain": "('Groningen', 'Groningen', 'Groningen')"
     },
     "execution_count": 32,
     "metadata": {},
     "output_type": "execute_result"
    }
   ],
   "source": [
    "# Type your code, here\n",
    "df.loc['second','city'], df.iloc[1,2], df.loc['second'].city"
   ]
  },
  {
   "cell_type": "markdown",
   "id": "0f459bab-7881-4d5d-8573-530558955e2a",
   "metadata": {},
   "source": [
    "<details>\n",
    "<summary>Answer 4.0</summary>\n",
    "<pre>\n",
    "df.loc['second','city'], df.iloc[1,2], df.loc['second'].city\n",
    "</pre>\n",
    "Use loc[..] or iloc[..].\n",
    "</details>"
   ]
  },
  {
   "cell_type": "markdown",
   "id": "4e7a277a-7b91-4b6b-b1cc-c74b5d99e52a",
   "metadata": {},
   "source": [
    "### 4.1. Question: Add a column `foundation`\n",
    "\n",
    "Add a new column named `foundation` indicating the year when the university was created (information available in [ENLIGHT](https://enlight-eu.org/) website or university websites).\n"
   ]
  },
  {
   "cell_type": "code",
   "execution_count": 33,
   "id": "bc134949-67e9-4f02-8a08-d29f74d5c090",
   "metadata": {
    "ExecuteTime": {
     "end_time": "2024-02-09T14:23:34.113254Z",
     "start_time": "2024-02-09T14:23:34.092097Z"
    }
   },
   "outputs": [],
   "source": [
    "# Type your code, here\n",
    "df['region'] = ['Niedersachsen','Groningen','Nouvelle-Aquitaine']\n",
    "df['foundation'] = [1737,1614,1441]"
   ]
  },
  {
   "cell_type": "markdown",
   "id": "34b25e62-b638-4b8b-a8bf-1abb23aded75",
   "metadata": {},
   "source": [
    "<details>\n",
    "<summary>Answer 4.1</summary>\n",
    "<pre>\n",
    "df['region'] = ['Niedersachsen','Groningen','Nouvelle-Aquitaine']\n",
    "df['foundation'] = [1737,1614,1441]\n",
    "</pre>\n",
    "</details>"
   ]
  },
  {
   "cell_type": "markdown",
   "id": "ce02a63a-02a6-473f-a060-5d84703cdc01",
   "metadata": {},
   "source": [
    "### 4.2. Question: Insert a column `acronym` after the column `university`\n",
    "\n",
    "- University of Bordeaux: UB\n",
    "- University of Goettingen: UGoe\n",
    "- University of Groningen: RUG\n"
   ]
  },
  {
   "cell_type": "code",
   "execution_count": 34,
   "id": "0d7eef84-81fa-4b3b-9b58-e19465c347e9",
   "metadata": {
    "ExecuteTime": {
     "end_time": "2024-02-09T14:23:57.737123Z",
     "start_time": "2024-02-09T14:23:57.721994Z"
    }
   },
   "outputs": [],
   "source": [
    "# Type your code, here\n",
    "df.insert(2, \"acronym\", ['UGoe', 'RUG','UB'])"
   ]
  },
  {
   "cell_type": "markdown",
   "id": "51b97c8a-32f1-4137-bfa9-3346c2552f08",
   "metadata": {},
   "source": [
    "<details>\n",
    "<summary>Answer 4.2</summary>\n",
    "<pre>\n",
    "df.insert(2, \"acronym\", ['UGoe', 'RUG','UB'])\n",
    "</pre>\n",
    "</details>"
   ]
  },
  {
   "cell_type": "markdown",
   "id": "700f4d62-297a-4d9a-af89-e42cc69eed47",
   "metadata": {},
   "source": [
    "### 4.3. Question: Compute the average city population and standard deviation."
   ]
  },
  {
   "cell_type": "code",
   "execution_count": 35,
   "id": "5b67e7e1-9bf1-4dd0-a406-60cbcbd26da9",
   "metadata": {
    "ExecuteTime": {
     "end_time": "2024-02-09T14:32:21.364137Z",
     "start_time": "2024-02-09T14:32:21.339760Z"
    }
   },
   "outputs": [
    {
     "data": {
      "text/plain": "(204837.66666666666, 77216.69276350376)"
     },
     "execution_count": 35,
     "metadata": {},
     "output_type": "execute_result"
    }
   ],
   "source": [
    "# Type your code\n",
    "df['city_pop'].mean(),df['city_pop'].std()"
   ]
  },
  {
   "cell_type": "markdown",
   "id": "a85fccf4-70dd-4399-b7ee-699469852130",
   "metadata": {},
   "source": [
    "<details>\n",
    "<summary>Answer 4.3</summary>\n",
    "<pre>\n",
    "df['city_pop'].mean(),df['city_pop'].std()\n",
    "</pre>\n",
    "</details>"
   ]
  },
  {
   "cell_type": "markdown",
   "id": "f81b76b3-2b2d-424e-b9a7-5b4a475adec3",
   "metadata": {},
   "source": [
    "### 4.4. Question: Get the median value of city area"
   ]
  },
  {
   "cell_type": "code",
   "execution_count": 36,
   "id": "65671ee4-79c0-4019-92da-4f2f37496ffa",
   "metadata": {
    "ExecuteTime": {
     "end_time": "2024-02-09T14:32:32.257796Z",
     "start_time": "2024-02-09T14:32:32.203618Z"
    }
   },
   "outputs": [
    {
     "data": {
      "text/plain": "116.89"
     },
     "execution_count": 36,
     "metadata": {},
     "output_type": "execute_result"
    }
   ],
   "source": [
    "# Type your code\n",
    "df['city_area'].median()"
   ]
  },
  {
   "cell_type": "markdown",
   "id": "9efbeea9-6ae6-4529-b843-63c2b9a3804a",
   "metadata": {},
   "source": [
    "<details>\n",
    "<summary>Answer 4.4</summary>\n",
    "<pre>\n",
    "df['city_area'].median()\n",
    "</pre>\n",
    "</details>"
   ]
  },
  {
   "cell_type": "markdown",
   "id": "25b19a4e-1723-4f58-b7cc-e8fe23c68294",
   "metadata": {},
   "source": [
    "### 4.5. Question: Which city is the densiest?\n",
    "Algorithm:\n",
    "1. Extract the column `city_density`\n",
    "2. Compute the maximum value and get its row name (see `pandas.DataFrame` Documentation)\n",
    "3. Display the cell corresponding to the row name and the column `city`.\n"
   ]
  },
  {
   "cell_type": "code",
   "execution_count": 38,
   "id": "654ac068-9824-4e61-a0ca-53f7f7704b74",
   "metadata": {
    "ExecuteTime": {
     "end_time": "2024-02-09T14:33:10.770489Z",
     "start_time": "2024-02-09T14:33:10.678717Z"
    }
   },
   "outputs": [
    {
     "data": {
      "text/plain": "(5263.553484602918, 'third', 'Bordeaux')"
     },
     "execution_count": 38,
     "metadata": {},
     "output_type": "execute_result"
    }
   ],
   "source": [
    "# Expected result 'Bordeaux'\n",
    "col = df['city_density']\n",
    "value = col.max()\n",
    "row_name = df['city_density'].idxmax()\n",
    "result = df.loc[row_name,'city']\n",
    "value,row_name,result"
   ]
  },
  {
   "cell_type": "markdown",
   "id": "a73ab249-c933-4b52-be62-3bdbb9e344f4",
   "metadata": {},
   "source": [
    "<details>\n",
    "<summary>Answer 4.5</summary>\n",
    "<pre>\n",
    "col = df['city_density']\n",
    "value = col.max()\n",
    "row_name = df['city_density'].idxmax()\n",
    "result = df.loc[row_name,'city']\n",
    "value,index_name,result\n",
    "</pre>\n",
    "</details>"
   ]
  },
  {
   "cell_type": "markdown",
   "id": "57a89f11-a9f3-4d33-b161-dc0c9e542739",
   "metadata": {},
   "source": [
    "### 4.6. Question: How to merge tables?\n",
    "\n",
    "Merge the _DataFrame_ `df` with the following _DataFrame_ `members` in a new _DataFrame_ `enlight`in order to get a table composed of four columns.\n",
    "\n",
    "\n",
    "|        | \tuniversity \t                   | country \t   | foundation   | acronym |\n",
    "|--------|------------------------------------|---------------|--------------|---------|\n",
    "| first | \tGeorg-August-Universität Göttingen \t| Deutschland \t| 1737 \t| GAU| \n",
    "| second|  \tRijksuniversiteit Groningen \t| Nederland \t| 1614 \t| RUG| \n",
    "| third \t| Université de Bordeaux \t| France | \t1441 \t| UB| \n",
    "| 0 | \tUniversity of the Basque Country \t| Spain \t| 1980 \t| UPV/EHU| \n",
    "| 1 | \tUniversity of Bern | \tSwitzerland \t| 1834 \t| None| \n",
    "| 2|  \tComenius University | Bratislava \t| Slovakia \t| 1919 \t| None| \n",
    "| 3|  \tUniversity of Galway \t| Ireland \t| 1845 \t| None| \n",
    "| 4 | \tGhent University \t| Belgium \t| 1817 \t| None| \n",
    "| 5 | \tUniversity of Tartu \t| Estonia \t| 1632 \t| None| \n",
    "| 6 \t| Uppsala University \t| Sweden \t| 1477 \t| None| "
   ]
  },
  {
   "cell_type": "code",
   "execution_count": 39,
   "id": "fd7d384a-57c4-4f8b-9156-48428b0b8012",
   "metadata": {
    "ExecuteTime": {
     "end_time": "2024-02-09T14:33:28.960866Z",
     "start_time": "2024-02-09T14:33:28.931373Z"
    }
   },
   "outputs": [
    {
     "data": {
      "text/plain": "                         university      country  foundation  acronym\n0  University of the Basque Country        Spain        1980  UPV/EHU\n1                University of Bern  Switzerland        1834     None\n2    Comenius University Bratislava     Slovakia        1919     None\n3              University of Galway      Ireland        1845     None\n4                  Ghent University      Belgium        1817     None\n5               University of Tartu      Estonia        1632     None\n6                Uppsala University       Sweden        1477     None",
      "text/html": "<div>\n<style scoped>\n    .dataframe tbody tr th:only-of-type {\n        vertical-align: middle;\n    }\n\n    .dataframe tbody tr th {\n        vertical-align: top;\n    }\n\n    .dataframe thead th {\n        text-align: right;\n    }\n</style>\n<table border=\"1\" class=\"dataframe\">\n  <thead>\n    <tr style=\"text-align: right;\">\n      <th></th>\n      <th>university</th>\n      <th>country</th>\n      <th>foundation</th>\n      <th>acronym</th>\n    </tr>\n  </thead>\n  <tbody>\n    <tr>\n      <th>0</th>\n      <td>University of the Basque Country</td>\n      <td>Spain</td>\n      <td>1980</td>\n      <td>UPV/EHU</td>\n    </tr>\n    <tr>\n      <th>1</th>\n      <td>University of Bern</td>\n      <td>Switzerland</td>\n      <td>1834</td>\n      <td>None</td>\n    </tr>\n    <tr>\n      <th>2</th>\n      <td>Comenius University Bratislava</td>\n      <td>Slovakia</td>\n      <td>1919</td>\n      <td>None</td>\n    </tr>\n    <tr>\n      <th>3</th>\n      <td>University of Galway</td>\n      <td>Ireland</td>\n      <td>1845</td>\n      <td>None</td>\n    </tr>\n    <tr>\n      <th>4</th>\n      <td>Ghent University</td>\n      <td>Belgium</td>\n      <td>1817</td>\n      <td>None</td>\n    </tr>\n    <tr>\n      <th>5</th>\n      <td>University of Tartu</td>\n      <td>Estonia</td>\n      <td>1632</td>\n      <td>None</td>\n    </tr>\n    <tr>\n      <th>6</th>\n      <td>Uppsala University</td>\n      <td>Sweden</td>\n      <td>1477</td>\n      <td>None</td>\n    </tr>\n  </tbody>\n</table>\n</div>"
     },
     "execution_count": 39,
     "metadata": {},
     "output_type": "execute_result"
    }
   ],
   "source": [
    "# Source: ENLIGHT\n",
    "others = [\n",
    "    ['University of the Basque Country','Spain',1980,'UPV/EHU'],\n",
    "    ['University of Bern','Switzerland',1834],\n",
    "    ['Comenius University Bratislava','Slovakia',1919],\n",
    "    ['University of Galway','Ireland',1845],\n",
    "    ['Ghent University','Belgium',1817],\n",
    "    ['University of Tartu','Estonia',1632],\n",
    "    ['Uppsala University','Sweden',1477]\n",
    "]\n",
    "\n",
    "members = pd.DataFrame(others,columns=['university','country','foundation','acronym'])\n",
    "members"
   ]
  },
  {
   "cell_type": "code",
   "execution_count": 40,
   "id": "9cfee021-e32b-4356-84ad-767bde7184e6",
   "metadata": {
    "ExecuteTime": {
     "end_time": "2024-02-09T14:33:49.962958Z",
     "start_time": "2024-02-09T14:33:49.923432Z"
    }
   },
   "outputs": [
    {
     "data": {
      "text/plain": "                                university      country  foundation  acronym\nfirst   Georg-August-Universität Göttingen  Deutschland        1737     UGoe\nsecond         Rijksuniversiteit Groningen    Nederland        1614      RUG\nthird               Université de Bordeaux       France        1441       UB\n0         University of the Basque Country        Spain        1980  UPV/EHU\n1                       University of Bern  Switzerland        1834     None\n2           Comenius University Bratislava     Slovakia        1919     None\n3                     University of Galway      Ireland        1845     None\n4                         Ghent University      Belgium        1817     None\n5                      University of Tartu      Estonia        1632     None\n6                       Uppsala University       Sweden        1477     None",
      "text/html": "<div>\n<style scoped>\n    .dataframe tbody tr th:only-of-type {\n        vertical-align: middle;\n    }\n\n    .dataframe tbody tr th {\n        vertical-align: top;\n    }\n\n    .dataframe thead th {\n        text-align: right;\n    }\n</style>\n<table border=\"1\" class=\"dataframe\">\n  <thead>\n    <tr style=\"text-align: right;\">\n      <th></th>\n      <th>university</th>\n      <th>country</th>\n      <th>foundation</th>\n      <th>acronym</th>\n    </tr>\n  </thead>\n  <tbody>\n    <tr>\n      <th>first</th>\n      <td>Georg-August-Universität Göttingen</td>\n      <td>Deutschland</td>\n      <td>1737</td>\n      <td>UGoe</td>\n    </tr>\n    <tr>\n      <th>second</th>\n      <td>Rijksuniversiteit Groningen</td>\n      <td>Nederland</td>\n      <td>1614</td>\n      <td>RUG</td>\n    </tr>\n    <tr>\n      <th>third</th>\n      <td>Université de Bordeaux</td>\n      <td>France</td>\n      <td>1441</td>\n      <td>UB</td>\n    </tr>\n    <tr>\n      <th>0</th>\n      <td>University of the Basque Country</td>\n      <td>Spain</td>\n      <td>1980</td>\n      <td>UPV/EHU</td>\n    </tr>\n    <tr>\n      <th>1</th>\n      <td>University of Bern</td>\n      <td>Switzerland</td>\n      <td>1834</td>\n      <td>None</td>\n    </tr>\n    <tr>\n      <th>2</th>\n      <td>Comenius University Bratislava</td>\n      <td>Slovakia</td>\n      <td>1919</td>\n      <td>None</td>\n    </tr>\n    <tr>\n      <th>3</th>\n      <td>University of Galway</td>\n      <td>Ireland</td>\n      <td>1845</td>\n      <td>None</td>\n    </tr>\n    <tr>\n      <th>4</th>\n      <td>Ghent University</td>\n      <td>Belgium</td>\n      <td>1817</td>\n      <td>None</td>\n    </tr>\n    <tr>\n      <th>5</th>\n      <td>University of Tartu</td>\n      <td>Estonia</td>\n      <td>1632</td>\n      <td>None</td>\n    </tr>\n    <tr>\n      <th>6</th>\n      <td>Uppsala University</td>\n      <td>Sweden</td>\n      <td>1477</td>\n      <td>None</td>\n    </tr>\n  </tbody>\n</table>\n</div>"
     },
     "execution_count": 40,
     "metadata": {},
     "output_type": "execute_result"
    }
   ],
   "source": [
    "# Type your code, here\n",
    "subset = df[['university','country','foundation','acronym']]\n",
    "enlight = pd.concat([subset,members])\n",
    "enlight"
   ]
  },
  {
   "cell_type": "markdown",
   "id": "10970893-5a6b-4c57-9ed4-abafa2169999",
   "metadata": {},
   "source": [
    "<details>\n",
    "<summary>Answer 4.6</summary>\n",
    "<pre>\n",
    "subset = df[['university','country','foundation','acronym']]\n",
    "enlight = pd.concat([subset,members])\n",
    "</pre>\n",
    "</details>"
   ]
  },
  {
   "cell_type": "markdown",
   "id": "0ccb548b-bc5b-40cd-8325-66e8ea0dc3cc",
   "metadata": {},
   "source": [
    "### 4.7. Question: Re-index the table `enlight` with increased numbers\n"
   ]
  },
  {
   "cell_type": "code",
   "execution_count": 41,
   "id": "6f07028f-0a23-4773-98e1-107670bf83d0",
   "metadata": {
    "ExecuteTime": {
     "end_time": "2024-02-09T14:34:16.058707Z",
     "start_time": "2024-02-09T14:34:16.019626Z"
    }
   },
   "outputs": [
    {
     "data": {
      "text/plain": "                           university      country  foundation  acronym\n0  Georg-August-Universität Göttingen  Deutschland        1737     UGoe\n1         Rijksuniversiteit Groningen    Nederland        1614      RUG\n2              Université de Bordeaux       France        1441       UB\n3    University of the Basque Country        Spain        1980  UPV/EHU\n4                  University of Bern  Switzerland        1834     None\n5      Comenius University Bratislava     Slovakia        1919     None\n6                University of Galway      Ireland        1845     None\n7                    Ghent University      Belgium        1817     None\n8                 University of Tartu      Estonia        1632     None\n9                  Uppsala University       Sweden        1477     None",
      "text/html": "<div>\n<style scoped>\n    .dataframe tbody tr th:only-of-type {\n        vertical-align: middle;\n    }\n\n    .dataframe tbody tr th {\n        vertical-align: top;\n    }\n\n    .dataframe thead th {\n        text-align: right;\n    }\n</style>\n<table border=\"1\" class=\"dataframe\">\n  <thead>\n    <tr style=\"text-align: right;\">\n      <th></th>\n      <th>university</th>\n      <th>country</th>\n      <th>foundation</th>\n      <th>acronym</th>\n    </tr>\n  </thead>\n  <tbody>\n    <tr>\n      <th>0</th>\n      <td>Georg-August-Universität Göttingen</td>\n      <td>Deutschland</td>\n      <td>1737</td>\n      <td>UGoe</td>\n    </tr>\n    <tr>\n      <th>1</th>\n      <td>Rijksuniversiteit Groningen</td>\n      <td>Nederland</td>\n      <td>1614</td>\n      <td>RUG</td>\n    </tr>\n    <tr>\n      <th>2</th>\n      <td>Université de Bordeaux</td>\n      <td>France</td>\n      <td>1441</td>\n      <td>UB</td>\n    </tr>\n    <tr>\n      <th>3</th>\n      <td>University of the Basque Country</td>\n      <td>Spain</td>\n      <td>1980</td>\n      <td>UPV/EHU</td>\n    </tr>\n    <tr>\n      <th>4</th>\n      <td>University of Bern</td>\n      <td>Switzerland</td>\n      <td>1834</td>\n      <td>None</td>\n    </tr>\n    <tr>\n      <th>5</th>\n      <td>Comenius University Bratislava</td>\n      <td>Slovakia</td>\n      <td>1919</td>\n      <td>None</td>\n    </tr>\n    <tr>\n      <th>6</th>\n      <td>University of Galway</td>\n      <td>Ireland</td>\n      <td>1845</td>\n      <td>None</td>\n    </tr>\n    <tr>\n      <th>7</th>\n      <td>Ghent University</td>\n      <td>Belgium</td>\n      <td>1817</td>\n      <td>None</td>\n    </tr>\n    <tr>\n      <th>8</th>\n      <td>University of Tartu</td>\n      <td>Estonia</td>\n      <td>1632</td>\n      <td>None</td>\n    </tr>\n    <tr>\n      <th>9</th>\n      <td>Uppsala University</td>\n      <td>Sweden</td>\n      <td>1477</td>\n      <td>None</td>\n    </tr>\n  </tbody>\n</table>\n</div>"
     },
     "execution_count": 41,
     "metadata": {},
     "output_type": "execute_result"
    }
   ],
   "source": [
    "# Type your code, here\n",
    "enlight = pd.concat([subset,members], ignore_index=True)\n",
    "nt = enlight.reset_index(drop=True)\n",
    "nt"
   ]
  },
  {
   "cell_type": "markdown",
   "id": "cbcae655-9167-4b29-bc91-ebab2fd43d73",
   "metadata": {},
   "source": [
    "<details>\n",
    "<summary>Answer 4.7</summary>\n",
    "    <ol>\n",
    "        <li>During the concatenation with the argument <code>ignore_index=True</code>\n",
    "        <pre>enlight = pd.concat([subset,members], ignore_index=True)</pre>\n",
    "        </li>\n",
    "        <li>Using the function <code>reset_index(..)</code>\n",
    "        <pre>nt = enlight.reset_index(drop=True)</pre>\n",
    "        </li>\n",
    "        <li>Using the funcion <code>reindex(..)</code>\n",
    "        </li>\n",
    "    </ol>\n",
    "</details>"
   ]
  },
  {
   "cell_type": "markdown",
   "id": "9ae685d8-a267-48f0-8071-da6039d0c73f",
   "metadata": {},
   "source": [
    "### 4.8. Question: Sort the table `enlight` by increased foundation year (the oldest first)\n"
   ]
  },
  {
   "cell_type": "code",
   "execution_count": 43,
   "id": "95baaf34-8da6-4ec0-9e8d-61d3a69530e0",
   "metadata": {
    "ExecuteTime": {
     "end_time": "2024-02-09T14:34:39.669127Z",
     "start_time": "2024-02-09T14:34:39.635729Z"
    }
   },
   "outputs": [
    {
     "data": {
      "text/plain": "                           university      country  foundation  acronym\n0  Georg-August-Universität Göttingen  Deutschland        1737     UGoe\n1         Rijksuniversiteit Groningen    Nederland        1614      RUG\n2              Université de Bordeaux       France        1441       UB\n3    University of the Basque Country        Spain        1980  UPV/EHU\n4                  University of Bern  Switzerland        1834     None\n5      Comenius University Bratislava     Slovakia        1919     None\n6                University of Galway      Ireland        1845     None\n7                    Ghent University      Belgium        1817     None\n8                 University of Tartu      Estonia        1632     None\n9                  Uppsala University       Sweden        1477     None",
      "text/html": "<div>\n<style scoped>\n    .dataframe tbody tr th:only-of-type {\n        vertical-align: middle;\n    }\n\n    .dataframe tbody tr th {\n        vertical-align: top;\n    }\n\n    .dataframe thead th {\n        text-align: right;\n    }\n</style>\n<table border=\"1\" class=\"dataframe\">\n  <thead>\n    <tr style=\"text-align: right;\">\n      <th></th>\n      <th>university</th>\n      <th>country</th>\n      <th>foundation</th>\n      <th>acronym</th>\n    </tr>\n  </thead>\n  <tbody>\n    <tr>\n      <th>0</th>\n      <td>Georg-August-Universität Göttingen</td>\n      <td>Deutschland</td>\n      <td>1737</td>\n      <td>UGoe</td>\n    </tr>\n    <tr>\n      <th>1</th>\n      <td>Rijksuniversiteit Groningen</td>\n      <td>Nederland</td>\n      <td>1614</td>\n      <td>RUG</td>\n    </tr>\n    <tr>\n      <th>2</th>\n      <td>Université de Bordeaux</td>\n      <td>France</td>\n      <td>1441</td>\n      <td>UB</td>\n    </tr>\n    <tr>\n      <th>3</th>\n      <td>University of the Basque Country</td>\n      <td>Spain</td>\n      <td>1980</td>\n      <td>UPV/EHU</td>\n    </tr>\n    <tr>\n      <th>4</th>\n      <td>University of Bern</td>\n      <td>Switzerland</td>\n      <td>1834</td>\n      <td>None</td>\n    </tr>\n    <tr>\n      <th>5</th>\n      <td>Comenius University Bratislava</td>\n      <td>Slovakia</td>\n      <td>1919</td>\n      <td>None</td>\n    </tr>\n    <tr>\n      <th>6</th>\n      <td>University of Galway</td>\n      <td>Ireland</td>\n      <td>1845</td>\n      <td>None</td>\n    </tr>\n    <tr>\n      <th>7</th>\n      <td>Ghent University</td>\n      <td>Belgium</td>\n      <td>1817</td>\n      <td>None</td>\n    </tr>\n    <tr>\n      <th>8</th>\n      <td>University of Tartu</td>\n      <td>Estonia</td>\n      <td>1632</td>\n      <td>None</td>\n    </tr>\n    <tr>\n      <th>9</th>\n      <td>Uppsala University</td>\n      <td>Sweden</td>\n      <td>1477</td>\n      <td>None</td>\n    </tr>\n  </tbody>\n</table>\n</div>"
     },
     "execution_count": 43,
     "metadata": {},
     "output_type": "execute_result"
    }
   ],
   "source": [
    "# Type your code, here\n",
    "enlight.sort_values(by=['foundation'])\n",
    "enlight"
   ]
  },
  {
   "cell_type": "markdown",
   "id": "a0d87982-8fa2-4127-ad62-ad73a49625c8",
   "metadata": {},
   "source": [
    "<details>\n",
    "<summary>Answer 4.8</summary>\n",
    "<pre>enlight.sort_values(by=['foundation'])\n",
    "</pre>\n",
    "</details>"
   ]
  },
  {
   "cell_type": "markdown",
   "id": "15684b97-fdb7-473a-a0ed-b93e951c3d4f",
   "metadata": {},
   "source": [
    "### 4.9. Question: Only display universities whose foundation year is less than 1800\n"
   ]
  },
  {
   "cell_type": "code",
   "execution_count": 44,
   "id": "6e678903-f69c-42e5-96fc-51c4eae44ffb",
   "metadata": {
    "ExecuteTime": {
     "end_time": "2024-02-09T14:34:54.624404Z",
     "start_time": "2024-02-09T14:34:54.600796Z"
    }
   },
   "outputs": [
    {
     "data": {
      "text/plain": "                           university      country  foundation acronym\n0  Georg-August-Universität Göttingen  Deutschland        1737    UGoe\n1         Rijksuniversiteit Groningen    Nederland        1614     RUG\n2              Université de Bordeaux       France        1441      UB\n8                 University of Tartu      Estonia        1632    None\n9                  Uppsala University       Sweden        1477    None",
      "text/html": "<div>\n<style scoped>\n    .dataframe tbody tr th:only-of-type {\n        vertical-align: middle;\n    }\n\n    .dataframe tbody tr th {\n        vertical-align: top;\n    }\n\n    .dataframe thead th {\n        text-align: right;\n    }\n</style>\n<table border=\"1\" class=\"dataframe\">\n  <thead>\n    <tr style=\"text-align: right;\">\n      <th></th>\n      <th>university</th>\n      <th>country</th>\n      <th>foundation</th>\n      <th>acronym</th>\n    </tr>\n  </thead>\n  <tbody>\n    <tr>\n      <th>0</th>\n      <td>Georg-August-Universität Göttingen</td>\n      <td>Deutschland</td>\n      <td>1737</td>\n      <td>UGoe</td>\n    </tr>\n    <tr>\n      <th>1</th>\n      <td>Rijksuniversiteit Groningen</td>\n      <td>Nederland</td>\n      <td>1614</td>\n      <td>RUG</td>\n    </tr>\n    <tr>\n      <th>2</th>\n      <td>Université de Bordeaux</td>\n      <td>France</td>\n      <td>1441</td>\n      <td>UB</td>\n    </tr>\n    <tr>\n      <th>8</th>\n      <td>University of Tartu</td>\n      <td>Estonia</td>\n      <td>1632</td>\n      <td>None</td>\n    </tr>\n    <tr>\n      <th>9</th>\n      <td>Uppsala University</td>\n      <td>Sweden</td>\n      <td>1477</td>\n      <td>None</td>\n    </tr>\n  </tbody>\n</table>\n</div>"
     },
     "execution_count": 44,
     "metadata": {},
     "output_type": "execute_result"
    }
   ],
   "source": [
    "# Type your code, here\n",
    "mask = enlight['foundation'] < 1800\n",
    "enlight[mask]"
   ]
  },
  {
   "cell_type": "markdown",
   "id": "8dbd5e0f-e773-450d-9a3d-1f4e7b33a537",
   "metadata": {},
   "source": [
    "<details>\n",
    "<summary>Answer 4.9</summary>\n",
    "<pre>\n",
    "mask = enlight['foundation'] < 1800\n",
    "enlight[mask]\n",
    "</pre>\n",
    "</details>"
   ]
  },
  {
   "cell_type": "markdown",
   "id": "d29cfefb-d794-4a89-9f88-59466965b873",
   "metadata": {},
   "source": [
    "---\n",
    "End of Chapter 1 &mdash; _pandas.DataFrame_\n",
    "---"
   ]
  },
  {
   "cell_type": "code",
   "outputs": [],
   "source": [],
   "metadata": {
    "collapsed": false
   },
   "id": "f3396155b20df06f"
  }
 ],
 "metadata": {
  "kernelspec": {
   "display_name": "Python 3 (ipykernel)",
   "language": "python",
   "name": "python3"
  },
  "language_info": {
   "codemirror_mode": {
    "name": "ipython",
    "version": 3
   },
   "file_extension": ".py",
   "mimetype": "text/x-python",
   "name": "python",
   "nbconvert_exporter": "python",
   "pygments_lexer": "ipython3",
   "version": "3.8.10"
  }
 },
 "nbformat": 4,
 "nbformat_minor": 5
}
