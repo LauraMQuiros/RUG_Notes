{
 "cells": [
  {
   "cell_type": "markdown",
   "id": "82865721-4dd3-47b8-a14c-a0a54148b039",
   "metadata": {},
   "source": [
    "# Chap.2 &mdash; _numpy.ndarray_.\n",
    "\n",
    "_Jean-Christophe Taveau, Université de Bordeaux, 2023-2024_\n",
    "\n",
    "> **Pre-requisites**: Basics of Python - variables, loops, conditionals, functions"
   ]
  },
  {
   "cell_type": "markdown",
   "id": "53612b4f-4af5-4f4d-a308-a9bdf8524095",
   "metadata": {},
   "source": [
    "## 1. Introduction\n",
    "\n",
    "The documentation is available in the Numy official website [numpy.ndarray](https://numpy.org/doc/stable/reference/arrays.ndarray.html).\n",
    "\n",
    "Why are we using `numpy.ndarray`? mostly, for speed and here is an element of comparison...\n",
    "\n",
    "### 1.1. _Numpy_ speeeeeddd !!!!\n",
    "\n",
    "The script below builds a 2D array containing incremented floating numbers using traditional Python with two nested loops."
   ]
  },
  {
   "cell_type": "code",
   "outputs": [
    {
     "name": "stdout",
     "output_type": "stream",
     "text": [
      "18.3 ms ± 1.6 ms per loop (mean ± std. dev. of 7 runs, 100 loops each)\n"
     ]
    }
   ],
   "source": [
    "%%timeit\n",
    "# Uncomment the line above to estimate your CPU computation time for this script\n",
    "\n",
    "L=[]\n",
    "v = 0\n",
    "for y in range(400):\n",
    "    row = []\n",
    "    for x in range(680):\n",
    "        row.append(v)\n",
    "        v += 1\n",
    "    L.append(row)\n"
   ],
   "metadata": {
    "collapsed": false,
    "ExecuteTime": {
     "end_time": "2024-02-09T14:39:30.498713Z",
     "start_time": "2024-02-09T14:39:15.345157Z"
    }
   },
   "id": "9d51bcdb1c334aae",
   "execution_count": 3
  },
  {
   "cell_type": "markdown",
   "id": "e4d81fd3-243c-438e-8565-d761ad4bab3e",
   "metadata": {},
   "source": [
    "... and here is the _numpy_ version."
   ]
  },
  {
   "cell_type": "code",
   "execution_count": 4,
   "id": "cdc126c7-0500-4f24-a4f1-3c47c02c685f",
   "metadata": {
    "ExecuteTime": {
     "end_time": "2024-02-09T14:39:45.076441Z",
     "start_time": "2024-02-09T14:39:37.042192Z"
    }
   },
   "outputs": [
    {
     "name": "stdout",
     "output_type": "stream",
     "text": [
      "95.5 µs ± 484 ns per loop (mean ± std. dev. of 7 runs, 10,000 loops each)\n"
     ]
    }
   ],
   "source": [
    "%%timeit\n",
    "# Uncomment the line above to estimate your CPU computation time for this script\n",
    "\n",
    "import numpy as np\n",
    "\n",
    "np.arange(400*680).reshape(400,680)"
   ]
  },
  {
   "cell_type": "markdown",
   "id": "b835d936-f735-43dd-b34f-eb290528dc22",
   "metadata": {},
   "source": [
    "> **Note**: We'll see later in this chapter, the meaning of all these functions."
   ]
  },
  {
   "cell_type": "markdown",
   "id": "445bbd25-b907-4540-b7df-72fa09b55b73",
   "metadata": {},
   "source": [
    "On my laptop, I got the following CPU time and `numpy` is a champion in speed!!\n",
    "\n",
    "|Code | Computation time |\n",
    "|-----|------------------|\n",
    "| Python  | 13.5 ms ± 78.7 µs per loop (mean ± std. dev. of 7 runs, 100 loops each) | \n",
    "| numpy   | 75.3 µs ± 125 ns per loop (mean ± std. dev. of 7 runs, 10,000 loops each) |"
   ]
  },
  {
   "cell_type": "markdown",
   "id": "1774fdea-3929-43f9-9cef-3195bd18a797",
   "metadata": {},
   "source": [
    "### 1.2. Comparison with _pandas.DataFrame_\n",
    "\n",
    "|              | DataFrame | Numpy Array | Note |\n",
    "|--------------|-----------|-------------|--------|\n",
    "| Dimension Number   | 2D        | 1D,2D,3D up to nD | n=no theoritical limit |\n",
    "| Column Headings | Yes | No | |\n",
    "| Mixing datatype | Yes | No | see script below |\n"
   ]
  },
  {
   "cell_type": "markdown",
   "id": "0b0a3ccc-3b15-4866-989e-6869c7f3fd79",
   "metadata": {},
   "source": [
    "### 1.3. Data types\n",
    "\n",
    "In a numpy array, you cannot mix different data types. From a heterogeneous array, `numpy` tries to automatically convert the data into a homogeneous compatible type. As noticed in the following script, the array `a` is defined from a _List_ of a mixture of _Number_ and _String_ which are converted into a _String_ numpy array."
   ]
  },
  {
   "cell_type": "code",
   "execution_count": 5,
   "id": "69dbcfb2-181c-475e-9ce5-6ba8ddf3bce8",
   "metadata": {
    "ExecuteTime": {
     "end_time": "2024-02-09T14:40:48.173234Z",
     "start_time": "2024-02-09T14:40:48.119680Z"
    }
   },
   "outputs": [
    {
     "data": {
      "text/plain": "array(['0', '1.345', '2', 'BIP'], dtype='<U32')"
     },
     "execution_count": 5,
     "metadata": {},
     "output_type": "execute_result"
    }
   ],
   "source": [
    "# Creating a numpy array containing mixing data types (Number and String)\n",
    "a = np.array([0,1.345,2,'BIP'])\n",
    "\n",
    "# All the elements of `a` are converted as String\n",
    "a"
   ]
  },
  {
   "cell_type": "markdown",
   "id": "2791c3e1-903a-4962-9d40-6a1d79be8f15",
   "metadata": {},
   "source": [
    "The datatypes available in numpy array correspond to those used by the programming language C/C++. A full description is available [here](https://numpy.org/doc/stable/user/basics.types.html#data-types).\n",
    "\n",
    "Most of the time, during the creation &mdash; if the datatype is not specified &mdash; `numpy` tries to guess the best type suitable for your data."
   ]
  },
  {
   "cell_type": "code",
   "execution_count": 6,
   "id": "af8b9680-afe1-4504-93b2-618046c67278",
   "metadata": {
    "ExecuteTime": {
     "end_time": "2024-02-09T14:41:09.392681Z",
     "start_time": "2024-02-09T14:41:09.367480Z"
    }
   },
   "outputs": [
    {
     "data": {
      "text/plain": "'a:int64, b:float64, c: <U10, d:uint8'"
     },
     "execution_count": 6,
     "metadata": {},
     "output_type": "execute_result"
    }
   ],
   "source": [
    "a =  np.array([0,12,1234]) # int because there is no floating-point number (aka real number)\n",
    "b =  np.array([0,1.345,3.14]) # float \n",
    "c =  np.array(['Bordeaux','Goettingen','Groningen']) # String\n",
    "d =  np.array([0,12,224],dtype=np.uint8) # Force the datatype to be an unsigned 8-bit integer.\n",
    "\n",
    "f'a:{a.dtype}, b:{b.dtype}, c: {c.dtype}, d:{d.dtype}'"
   ]
  },
  {
   "cell_type": "markdown",
   "id": "0ce6bd04-a4cf-4126-bd6f-367f750ed532",
   "metadata": {},
   "source": [
    "However, as shown in the script below, the type of the array may change in function of the operation you applied to your data. "
   ]
  },
  {
   "cell_type": "code",
   "execution_count": 7,
   "id": "af691aea-8dd6-4fca-b1e1-2a62be6cd885",
   "metadata": {
    "ExecuteTime": {
     "end_time": "2024-02-09T14:41:14.507045Z",
     "start_time": "2024-02-09T14:41:14.450200Z"
    }
   },
   "outputs": [
    {
     "data": {
      "text/plain": "'a1:float64, a2:int64, ab:float64'"
     },
     "execution_count": 7,
     "metadata": {},
     "output_type": "execute_result"
    }
   ],
   "source": [
    "a1 = a / 2    # int64 -> float64\n",
    "a2 = a // 2   # int64 -> int64\n",
    "ab = a + b    # int64 + float64 -> float64\n",
    "\n",
    "f'a1:{a1.dtype}, a2:{a2.dtype}, ab:{ab.dtype}'"
   ]
  },
  {
   "cell_type": "markdown",
   "id": "979ab0d9-93fc-4a99-873b-94c82be61fef",
   "metadata": {},
   "source": [
    "> **Warning**: Specifying data type may give weird result.\n",
    "> \n",
    "> The array `d` contains three values [0, 12, 224] and the datatype is forced to `uint8`. If you multiply this array by four (4), you expect to get:\n",
    "> - 0 * 4 = 0\n",
    "> - 12 * 4 = 48\n",
    "> - 224 * 4 = 896 !!! Problem\n",
    ">\n",
    "> The last element is greater than the maximum value authorized for a `uint8`(255<sub>(10)</sub> = 2<sup>8</sup> - 1 = 11111111<sub>(2)</sub> ). Thus, the value is recalculated according to this formula corresponding to a permutation `value = (224 * 4) % 256 = 128 = 256 * 4 + 128`."
   ]
  },
  {
   "cell_type": "code",
   "execution_count": 8,
   "id": "dcaa2121-2db9-4449-aac6-233768005142",
   "metadata": {
    "ExecuteTime": {
     "end_time": "2024-02-09T14:42:00.527423Z",
     "start_time": "2024-02-09T14:42:00.481925Z"
    }
   },
   "outputs": [
    {
     "data": {
      "text/plain": "array([  0,  48, 132], dtype=uint8)"
     },
     "execution_count": 8,
     "metadata": {},
     "output_type": "execute_result"
    }
   ],
   "source": [
    "# uint8: range of 0 up to 255\n",
    "d =  np.array([0,12,225],dtype=np.uint8)\n",
    "d1 = d * 4\n",
    "\n",
    "# Expected result\n",
    "# array([  0,  48, 896])\n",
    "d1"
   ]
  },
  {
   "cell_type": "markdown",
   "id": "b87b8700-7fdd-4737-8699-61a483f7c6c8",
   "metadata": {},
   "source": [
    "In such a case, you have to convert your data in a data type compatible to your computation. You can do that with the method `astype(..)`."
   ]
  },
  {
   "cell_type": "code",
   "execution_count": 9,
   "id": "b7c61b1f-2158-452f-b0d5-b402f8f1d555",
   "metadata": {
    "ExecuteTime": {
     "end_time": "2024-02-09T14:43:49.220658Z",
     "start_time": "2024-02-09T14:43:49.178596Z"
    }
   },
   "outputs": [
    {
     "data": {
      "text/plain": "array([  0,  48, 896], dtype=uint16)"
     },
     "execution_count": 9,
     "metadata": {},
     "output_type": "execute_result"
    }
   ],
   "source": [
    "d =  np.array([0,12,224],dtype=np.uint8)\n",
    "# The smallest type fitting the value 896 is an unsigned 16-bit integer whose max value is 2^16 - 1 = 65535\n",
    "d_16bits = d.astype(np.uint16)\n",
    "d2 = d_16bits * 4\n",
    "d2"
   ]
  },
  {
   "cell_type": "markdown",
   "id": "d61bfa28-4189-48b8-bba2-716f01d54dbc",
   "metadata": {},
   "source": [
    "## 2. Array creation"
   ]
  },
  {
   "cell_type": "code",
   "execution_count": 10,
   "id": "d431a017-5623-4494-ada2-30e98d6bd089",
   "metadata": {
    "ExecuteTime": {
     "end_time": "2024-02-09T14:44:05.414106Z",
     "start_time": "2024-02-09T14:44:05.362094Z"
    }
   },
   "outputs": [],
   "source": [
    "import numpy as np"
   ]
  },
  {
   "cell_type": "markdown",
   "id": "54ba19b5-81fa-4015-90cc-bd815225ac44",
   "metadata": {},
   "source": [
    "### 2.1.  From a _List_"
   ]
  },
  {
   "cell_type": "code",
   "execution_count": 11,
   "id": "db900ddf-6d5b-48ac-b659-1bc7bc8f702e",
   "metadata": {
    "ExecuteTime": {
     "end_time": "2024-02-09T14:44:07.181610Z",
     "start_time": "2024-02-09T14:44:07.140393Z"
    }
   },
   "outputs": [
    {
     "data": {
      "text/plain": "array([10, 12, 45, 32, 65])"
     },
     "execution_count": 11,
     "metadata": {},
     "output_type": "execute_result"
    }
   ],
   "source": [
    "a = np.array([10,12,45,32,65])\n",
    "a"
   ]
  },
  {
   "cell_type": "code",
   "execution_count": 12,
   "id": "566ff722-4993-4eff-b591-a9092d1dbd66",
   "metadata": {
    "ExecuteTime": {
     "end_time": "2024-02-09T14:44:11.502508Z",
     "start_time": "2024-02-09T14:44:11.477806Z"
    }
   },
   "outputs": [
    {
     "data": {
      "text/plain": "((5,), dtype('int64'))"
     },
     "execution_count": 12,
     "metadata": {},
     "output_type": "execute_result"
    }
   ],
   "source": [
    "a.shape,a.dtype"
   ]
  },
  {
   "cell_type": "code",
   "execution_count": 13,
   "id": "55dffcfe-8782-4b2e-ac65-44273b866336",
   "metadata": {
    "ExecuteTime": {
     "end_time": "2024-02-09T14:44:21.690254Z",
     "start_time": "2024-02-09T14:44:21.648602Z"
    }
   },
   "outputs": [
    {
     "data": {
      "text/plain": "array([[ 1,  2,  3],\n       [ 6,  5,  4],\n       [ 7,  8,  9],\n       [12, 11, 10]])"
     },
     "execution_count": 13,
     "metadata": {},
     "output_type": "execute_result"
    }
   ],
   "source": [
    "b=np.array([[1,2,3],[6,5,4],[7,8,9],[12,11,10]])\n",
    "b\n",
    "# Result\n",
    "# array([[ 1,  2,  3],\n",
    "#        [ 6,  5,  4],\n",
    "#        [ 7,  8,  9],\n",
    "#        [12, 11, 10]])"
   ]
  },
  {
   "cell_type": "code",
   "execution_count": 14,
   "id": "4355c4a6-a257-4158-b31c-83c1645191d0",
   "metadata": {
    "ExecuteTime": {
     "end_time": "2024-02-09T14:44:32.149858Z",
     "start_time": "2024-02-09T14:44:32.106297Z"
    }
   },
   "outputs": [
    {
     "data": {
      "text/plain": "(4, 3)"
     },
     "execution_count": 14,
     "metadata": {},
     "output_type": "execute_result"
    }
   ],
   "source": [
    "b.shape"
   ]
  },
  {
   "cell_type": "markdown",
   "id": "62c2e28b-ce9a-47d1-bbe0-ab7ea873ab71",
   "metadata": {},
   "source": [
    "### 2.2. Initialize a `numpy array`\n",
    "\n",
    "#### 2.2.1. by a constant value\n",
    "\n",
    "| Function | Description |\n",
    "|   ----------   |-------------|\n",
    "| np.zeros(..) | zero-fill array |\n",
    "| np.ones(..)  | one-fill array |\n",
    "| np.full(..) | Array filled with specified value |\n",
    "\n",
    "This function creates an empty array with undefined values.\n",
    "\n",
    "| Function | Description |\n",
    "|   ----------   |-------------|\n",
    "| np.empty(..) | Empty un-intialized array |"
   ]
  },
  {
   "cell_type": "code",
   "execution_count": 15,
   "id": "26570877-3b4c-4d7c-8c1c-f4c1ff9c6c81",
   "metadata": {
    "ExecuteTime": {
     "end_time": "2024-02-09T14:48:51.674429Z",
     "start_time": "2024-02-09T14:48:51.635753Z"
    }
   },
   "outputs": [
    {
     "data": {
      "text/plain": "(array([[0., 0.],\n        [0., 0.],\n        [0., 0.],\n        [0., 0.]]),\n array([[[0., 0.],\n         [0., 0.],\n         [0., 0.]],\n \n        [[0., 0.],\n         [0., 0.],\n         [0., 0.]]]),\n array([[1., 1., 1., 1., 1.],\n        [1., 1., 1., 1., 1.],\n        [1., 1., 1., 1., 1.],\n        [1., 1., 1., 1., 1.],\n        [1., 1., 1., 1., 1.]]),\n array([[7, 7, 7, 7],\n        [7, 7, 7, 7],\n        [7, 7, 7, 7]]))"
     },
     "execution_count": 15,
     "metadata": {},
     "output_type": "execute_result"
    }
   ],
   "source": [
    "# Init Array with zeroes\n",
    "empty = np.empty((4,2))\n",
    "# Init Array with zeroes\n",
    "zero = np.zeros((2,3,2))\n",
    "# Init Array with ones\n",
    "one = np.ones((5,5))\n",
    "# Init array with arbitrary value\n",
    "seven = np.full((3,4),7)\n",
    "empty,zero,one,seven"
   ]
  },
  {
   "cell_type": "markdown",
   "id": "8edfa4f7-5983-47af-81d9-883082627e97",
   "metadata": {},
   "source": [
    "#### 2.2.2. by range values\n",
    "\n",
    "| Function | Description |\n",
    "|   ----------   |-------------|\n",
    "| np.arange(..) | Equivalent to the Python range |\n",
    "| np.linspace(..) | Linear interpolation between `start` and `stop` in `num` steps |\n"
   ]
  },
  {
   "cell_type": "markdown",
   "id": "7c3221e6-f340-41cf-9626-ae5ee29bd2e6",
   "metadata": {},
   "source": [
    "a = np.arange(10)\n",
    "b = np.linspace(2.0, 3.0, num=5)\n",
    "a,b"
   ]
  },
  {
   "cell_type": "markdown",
   "id": "b358a5c3-0905-4b84-be82-a16eeebf9c70",
   "metadata": {},
   "source": [
    "### 2.3. Exploring the array\n",
    "\n",
    "These properties are very useful:\n",
    "\n",
    "- `shape` lists the size of the array. It returns a _tuple_\n",
    "- `ndim` returns the dimension number. It is equivalent to `len(shape)`.\n",
    "- `dtype` returns the data type.\n",
    "- "
   ]
  },
  {
   "cell_type": "code",
   "execution_count": 16,
   "id": "1621f764-1240-4e27-9469-f9d2b97b3b5e",
   "metadata": {
    "ExecuteTime": {
     "end_time": "2024-02-09T14:49:13.590461Z",
     "start_time": "2024-02-09T14:49:13.566311Z"
    }
   },
   "outputs": [
    {
     "data": {
      "text/plain": "((4, 3), 2, dtype('int64'))"
     },
     "execution_count": 16,
     "metadata": {},
     "output_type": "execute_result"
    }
   ],
   "source": [
    "a = np.array([[1,2,3],[6,5,4],[7,8,9],[12,11,10]]) \n",
    "a.shape,a.ndim,a.dtype"
   ]
  },
  {
   "cell_type": "markdown",
   "id": "0812ca38-f7a0-4d2c-920f-d774c4cd9750",
   "metadata": {},
   "source": [
    "The function `np.info(..)` lists all the parameters of the array"
   ]
  },
  {
   "cell_type": "code",
   "execution_count": 17,
   "id": "72f4ac2a-9689-425d-acb7-ea0aaaba9a04",
   "metadata": {
    "ExecuteTime": {
     "end_time": "2024-02-09T14:49:31.775762Z",
     "start_time": "2024-02-09T14:49:31.717774Z"
    }
   },
   "outputs": [
    {
     "name": "stdout",
     "output_type": "stream",
     "text": [
      "class:  ndarray\n",
      "shape:  (4, 3)\n",
      "strides:  (24, 8)\n",
      "itemsize:  8\n",
      "aligned:  True\n",
      "contiguous:  True\n",
      "fortran:  False\n",
      "data pointer: 0x600000a8c300\n",
      "byteorder:  little\n",
      "byteswap:  False\n",
      "type: int64\n"
     ]
    }
   ],
   "source": [
    "a = np.array([[1,2,3],[6,5,4],[7,8,9],[12,11,10]]) \n",
    "np.info(a)"
   ]
  },
  {
   "cell_type": "markdown",
   "id": "1396aa0f-6108-42c1-b3e0-990cd62e1067",
   "metadata": {},
   "source": [
    "### 2.4. Reshaping the array\n",
    "\n",
    "A powerful functionality of`numpy array`is the ability to modify its shape (size and dimension number)."
   ]
  },
  {
   "cell_type": "code",
   "execution_count": 18,
   "id": "3436814e-c9a4-4c65-b992-d624c327b3df",
   "metadata": {
    "ExecuteTime": {
     "end_time": "2024-02-09T14:49:52.371746Z",
     "start_time": "2024-02-09T14:49:52.350007Z"
    }
   },
   "outputs": [
    {
     "data": {
      "text/plain": "((12,), (3, 4), (3, 2, 2), (3, 1, 2, 1, 2))"
     },
     "execution_count": 18,
     "metadata": {},
     "output_type": "execute_result"
    }
   ],
   "source": [
    "a = np.arange(12) # 1D array becomes ...\n",
    "b = a.reshape(3,4) # a 2D array\n",
    "c = a.reshape(3,2,2) # a 3D array\n",
    "d = a.reshape(3,1,2,1,2) # a 5D array\n",
    "a.shape, b.shape,c.shape,d.shape"
   ]
  },
  {
   "cell_type": "markdown",
   "id": "fc64ef35-14ff-4958-9bed-1e887ca196f5",
   "metadata": {},
   "source": [
    "The reverse operation is `flatten(..)` transforming the nD-array into a 1D array."
   ]
  },
  {
   "cell_type": "code",
   "execution_count": 19,
   "id": "acd7eebc-d09f-4b7a-9a1e-1391ffad713f",
   "metadata": {
    "ExecuteTime": {
     "end_time": "2024-02-09T14:50:12.524928Z",
     "start_time": "2024-02-09T14:50:12.435215Z"
    }
   },
   "outputs": [
    {
     "data": {
      "text/plain": "array([ 0,  1,  2,  3,  4,  5,  6,  7,  8,  9, 10, 11])"
     },
     "execution_count": 19,
     "metadata": {},
     "output_type": "execute_result"
    }
   ],
   "source": [
    "d.flatten()"
   ]
  },
  {
   "cell_type": "markdown",
   "id": "4aa5b64d-b48d-462b-9280-cf0ead116455",
   "metadata": {},
   "source": [
    "## 3. Manipulating numpy array"
   ]
  },
  {
   "cell_type": "markdown",
   "id": "8e69c14b-d91c-45d7-8633-98f940b28621",
   "metadata": {},
   "source": [
    "### 3.1. Get values and slicing\n",
    "\n",
    "To read a value in a numpy array, you use the same syntax as the _List_ using square brackets and an index giving the location of the element in the array. The first element of an array is at index 0. Like in _List_, the indexing may use positive or negative numbers. In the latter, the last element is at index -1.\n",
    "\n",
    "> **Note**: In a multi-dimensional array, you may simplify the syntax by separating the various indexes by commas rather than using the open/close squared brackets.\n",
    "> \n",
    "> For example to read a value in a 4D array `a`, the syntax `a[w][z][y][x]` is equivalent to `a[w,z,y,x]`"
   ]
  },
  {
   "cell_type": "code",
   "execution_count": 20,
   "id": "10bf426e-2b4b-471d-95d8-103bd7131e48",
   "metadata": {
    "ExecuteTime": {
     "end_time": "2024-02-09T14:50:40.503393Z",
     "start_time": "2024-02-09T14:50:40.447806Z"
    }
   },
   "outputs": [
    {
     "data": {
      "text/plain": "(12, 10, 10)"
     },
     "execution_count": 20,
     "metadata": {},
     "output_type": "execute_result"
    }
   ],
   "source": [
    "a = np.arange(24)\n",
    "b=np.array([[1,2,3],[6,5,4],[7,8,9],[12,11,10]])\n",
    "# Read the 12th item in `a`\n",
    "va = a[12]\n",
    "# Read the item located at the 3rd row and 2nd column\n",
    "vb = b[3][2]\n",
    "# In numpy, you can simplify the syntax and separate the indexes by a comma\n",
    "vb_short = b[3,2]\n",
    "\n",
    "va,vb,vb_short"
   ]
  },
  {
   "cell_type": "markdown",
   "id": "5288c3ae-58db-4285-8edb-4366deb1d3bb",
   "metadata": {},
   "source": [
    "It is really interesting to get a subset of values in a numpy array. Like Python _List_, we use the square brackets with the `start` index and the `stop` index (excluded) separated by a colon <kbd>:</kbd>."
   ]
  },
  {
   "cell_type": "code",
   "execution_count": 21,
   "id": "d4867f74-9fcd-4f6f-a100-3a21ba82f19d",
   "metadata": {
    "ExecuteTime": {
     "end_time": "2024-02-09T14:51:24.700638Z",
     "start_time": "2024-02-09T14:51:24.657630Z"
    }
   },
   "outputs": [
    {
     "data": {
      "text/plain": "array([11, 12, 13, 14])"
     },
     "execution_count": 21,
     "metadata": {},
     "output_type": "execute_result"
    }
   ],
   "source": [
    "a = np.arange(24)\n",
    "# You are extracting element of index 11,12,13,14. The element at index 15 is not taken into account\n",
    "a[11:15]"
   ]
  },
  {
   "cell_type": "markdown",
   "id": "b69b8883-32c3-438d-9240-2215fe99268e",
   "metadata": {},
   "source": [
    "Extracting a rectangular area in this 2D array is done by specifying a range in each axis like..."
   ]
  },
  {
   "cell_type": "code",
   "execution_count": 22,
   "id": "d40f05fd-b950-4391-aa01-bf9bbb7eae5e",
   "metadata": {
    "ExecuteTime": {
     "end_time": "2024-02-09T14:54:22.546855Z",
     "start_time": "2024-02-09T14:54:22.505573Z"
    }
   },
   "outputs": [
    {
     "data": {
      "text/plain": "array([[ 9, 10],\n       [13, 14],\n       [17, 18]])"
     },
     "execution_count": 22,
     "metadata": {},
     "output_type": "execute_result"
    }
   ],
   "source": [
    "a = np.arange(24).reshape(6,4)\n",
    "# array([[ 0,  1,  2,  3],\n",
    "#        [ 4,  5,  6,  7],\n",
    "#        [ 8,  9, 10, 11],\n",
    "#        [12, 13, 14, 15],\n",
    "#        [16, 17, 18, 19],\n",
    "#        [20, 21, 22, 23]])\n",
    "\n",
    "subset = a[2:5,1:3]\n",
    "subset"
   ]
  },
  {
   "cell_type": "code",
   "execution_count": 23,
   "id": "22502b2e-ec44-43c4-96a6-af95ae69ddb2",
   "metadata": {
    "ExecuteTime": {
     "end_time": "2024-02-09T14:54:32.213480Z",
     "start_time": "2024-02-09T14:54:32.186368Z"
    }
   },
   "outputs": [
    {
     "data": {
      "text/plain": "array([[ 9., 10.],\n       [13., 14.],\n       [17., 18.]])"
     },
     "execution_count": 23,
     "metadata": {},
     "output_type": "execute_result"
    }
   ],
   "source": [
    "# Equivalent Python code with nested loops\n",
    "s = np.zeros((3,2))\n",
    "for y in range(5 - 2):\n",
    "    for x in range(3 - 1):\n",
    "      s[y,x] = a[y+2,x+1]   \n",
    "s"
   ]
  },
  {
   "cell_type": "markdown",
   "id": "d9df8b19-975f-408a-ad23-58db5605cf06",
   "metadata": {},
   "source": [
    "If you just set a colon <kbd>:</kbd> without specifying `start` and `stop` index. All the elements corresponding to this axis are taken into account. For example, to extract the column at index 2. You say that you want all the elements along axis 0 and only at the index 2 along axis 1."
   ]
  },
  {
   "cell_type": "code",
   "execution_count": 24,
   "id": "4f4428b1-d8e7-4fbe-a6ed-67de6a1b22f1",
   "metadata": {
    "ExecuteTime": {
     "end_time": "2024-02-09T14:54:49.271812Z",
     "start_time": "2024-02-09T14:54:49.251287Z"
    }
   },
   "outputs": [
    {
     "data": {
      "text/plain": "array([ 2,  6, 10, 14, 18, 22])"
     },
     "execution_count": 24,
     "metadata": {},
     "output_type": "execute_result"
    }
   ],
   "source": [
    "other = a[:,2]\n",
    "other"
   ]
  },
  {
   "cell_type": "code",
   "execution_count": 25,
   "id": "d068f31c-74bc-4ef4-8fe6-64cd0dd03ed9",
   "metadata": {
    "ExecuteTime": {
     "end_time": "2024-02-09T14:55:14.736048Z",
     "start_time": "2024-02-09T14:55:14.718483Z"
    }
   },
   "outputs": [
    {
     "data": {
      "text/plain": "[2, 6, 10, 14, 18, 22]"
     },
     "execution_count": 25,
     "metadata": {},
     "output_type": "execute_result"
    }
   ],
   "source": [
    "# This is equivalent to this Python code\n",
    "col=[]\n",
    "for y in range(6):\n",
    "    col.append(a[y,2])\n",
    "col"
   ]
  },
  {
   "cell_type": "markdown",
   "id": "5fb9db8f-8f10-4cfc-b864-3af4dd76f146",
   "metadata": {},
   "source": [
    "### 3.2. Understanding the axes\n",
    "\n",
    "#### 3.2.1. Definition \n",
    "\n",
    "Source: **Excerpt from the NumPy documentation**\n",
    "\n",
    "An **axis** is another term for an **array dimension**. \n",
    "\n",
    "- Axes are numbered left to right; axis 0 is the first element in the shape tuple.\n",
    "- In a two-dimensional vector, the elements of axis 0 are rows and the elements of axis 1 are columns.\n",
    "- In higher dimensions, the picture changes. NumPy prints higher-dimensional vectors as replications of **row-by-column** building blocks, as in this three-dimensional vector:"
   ]
  },
  {
   "cell_type": "code",
   "execution_count": 26,
   "id": "c1e62130-19a4-4666-b29b-95c32ee1e66a",
   "metadata": {
    "ExecuteTime": {
     "end_time": "2024-02-09T14:55:23.430883Z",
     "start_time": "2024-02-09T14:55:23.386291Z"
    }
   },
   "outputs": [
    {
     "data": {
      "text/plain": "array([[[ 0,  1,  2],\n        [ 3,  4,  5]],\n\n       [[ 6,  7,  8],\n        [ 9, 10, 11]]])"
     },
     "execution_count": 26,
     "metadata": {},
     "output_type": "execute_result"
    }
   ],
   "source": [
    "a = np.arange(12).reshape(2,2,3)\n",
    "a\n",
    "# array([[[ 0,  1,  2],\n",
    "#         [ 3,  4,  5]],\n",
    "#        [[ 6,  7,  8],\n",
    "#         [ 9, 10, 11]]])"
   ]
  },
  {
   "cell_type": "markdown",
   "id": "020312bf-f320-4573-9998-20632be087f6",
   "metadata": {},
   "source": [
    "`a` is depicted as a two-element array whose elements are 2x3 vectors. From this point of view, rows and columns are the final two axes, respectively, in any shape.\n",
    "\n",
    "This rule helps you anticipate how a vector will be printed, and conversely how to find the index of any of the printed elements. For instance, in the example, the last two values of 8’s index must be 0 and 2. Since 8 appears in the second of the two 2x3’s, the first index must be 1:"
   ]
  },
  {
   "cell_type": "code",
   "execution_count": 27,
   "id": "92b3da07-5793-4f99-93cc-9d6fe1ce1647",
   "metadata": {
    "ExecuteTime": {
     "end_time": "2024-02-09T14:55:29.459490Z",
     "start_time": "2024-02-09T14:55:29.434409Z"
    }
   },
   "outputs": [
    {
     "data": {
      "text/plain": "8"
     },
     "execution_count": 27,
     "metadata": {},
     "output_type": "execute_result"
    }
   ],
   "source": [
    "a[1,0,2]\n",
    "# 8"
   ]
  },
  {
   "cell_type": "markdown",
   "id": "595b1eca-d0c6-434d-8942-c96a50fd3c39",
   "metadata": {},
   "source": [
    "A convenient way to count dimensions in a printed vector is to count the square bracket <kbd>[</kbd> symbols after the open-parenthesis. This is useful in distinguishing, say, a (1,2,3) shape from a (2,3) shape:"
   ]
  },
  {
   "cell_type": "code",
   "execution_count": 28,
   "id": "4f1b41ef-7a6e-4f47-8acd-4681c73cc243",
   "metadata": {
    "ExecuteTime": {
     "end_time": "2024-02-09T14:56:58.271474Z",
     "start_time": "2024-02-09T14:56:58.232664Z"
    }
   },
   "outputs": [
    {
     "data": {
      "text/plain": "2"
     },
     "execution_count": 28,
     "metadata": {},
     "output_type": "execute_result"
    }
   ],
   "source": [
    "a = np.arange(6).reshape(2,3)\n",
    "a.ndim\n",
    "# 2"
   ]
  },
  {
   "cell_type": "code",
   "execution_count": 29,
   "id": "b403127d-d5bc-4fa6-b594-7fa71d810450",
   "metadata": {
    "ExecuteTime": {
     "end_time": "2024-02-09T14:57:01.515667Z",
     "start_time": "2024-02-09T14:57:01.472553Z"
    }
   },
   "outputs": [
    {
     "data": {
      "text/plain": "array([[0, 1, 2],\n       [3, 4, 5]])"
     },
     "execution_count": 29,
     "metadata": {},
     "output_type": "execute_result"
    }
   ],
   "source": [
    "a\n",
    "# array([[0, 1, 2],\n",
    "#        [3, 4, 5]])"
   ]
  },
  {
   "cell_type": "code",
   "execution_count": 30,
   "id": "77e135e3-34af-43aa-b137-752dc424ccb7",
   "metadata": {
    "ExecuteTime": {
     "end_time": "2024-02-09T14:57:10.603557Z",
     "start_time": "2024-02-09T14:57:10.580517Z"
    }
   },
   "outputs": [
    {
     "data": {
      "text/plain": "(3,\n array([[[0, 1, 2],\n         [3, 4, 5]]]))"
     },
     "execution_count": 30,
     "metadata": {},
     "output_type": "execute_result"
    }
   ],
   "source": [
    "a = np.arange(6).reshape(1,2,3)\n",
    "a.ndim,a\n",
    "# 3\n",
    "#\n",
    "# array([[[0, 1, 2],\n",
    "#         [3, 4, 5]]])"
   ]
  },
  {
   "cell_type": "markdown",
   "id": "ff5bd453-49d3-4b1d-bfda-fc68752a7d27",
   "metadata": {},
   "source": [
    "#### 3.2.2. Specifying axis for computation\n",
    "\n",
    "From this 2D array, we want to compute the mean from all the elements in the array. "
   ]
  },
  {
   "cell_type": "code",
   "execution_count": 31,
   "id": "0f3712ec-4880-4ff5-a31c-36773342eb45",
   "metadata": {
    "ExecuteTime": {
     "end_time": "2024-02-09T14:57:28.056604Z",
     "start_time": "2024-02-09T14:57:27.996445Z"
    }
   },
   "outputs": [
    {
     "data": {
      "text/plain": "(2, 3)"
     },
     "execution_count": 31,
     "metadata": {},
     "output_type": "execute_result"
    }
   ],
   "source": [
    "a = np.arange(6)\n",
    "a2d = a.reshape(2,3)\n",
    "a2d.shape"
   ]
  },
  {
   "cell_type": "markdown",
   "id": "56ac3f52-9ba3-4409-925a-bffbfa1d3b00",
   "metadata": {},
   "source": [
    "Now, we compute the mean."
   ]
  },
  {
   "cell_type": "code",
   "execution_count": 32,
   "id": "e8e24e9b-548c-4e95-83a9-05e9fade44ba",
   "metadata": {
    "ExecuteTime": {
     "end_time": "2024-02-09T14:57:36.019698Z",
     "start_time": "2024-02-09T14:57:35.959966Z"
    }
   },
   "outputs": [
    {
     "data": {
      "text/plain": "2.5"
     },
     "execution_count": 32,
     "metadata": {},
     "output_type": "execute_result"
    }
   ],
   "source": [
    "a2d.mean()"
   ]
  },
  {
   "cell_type": "markdown",
   "id": "9c7c8254-8b2e-4625-ac82-97ff1352d5d8",
   "metadata": {},
   "source": [
    "Now, if we want to calculate means for each column, you have to specify the axis. Here, this is the axis 0 corresponding to the Y vertical axis"
   ]
  },
  {
   "cell_type": "code",
   "execution_count": 33,
   "id": "56c84f2b-3e73-406b-8a8b-d83ae15d48c7",
   "metadata": {
    "ExecuteTime": {
     "end_time": "2024-02-09T14:57:41.523066Z",
     "start_time": "2024-02-09T14:57:41.479277Z"
    }
   },
   "outputs": [
    {
     "data": {
      "text/plain": "array([1.5, 2.5, 3.5])"
     },
     "execution_count": 33,
     "metadata": {},
     "output_type": "execute_result"
    }
   ],
   "source": [
    "a2d.mean(axis=0)"
   ]
  },
  {
   "cell_type": "markdown",
   "id": "0911a8c1-6728-40ad-8a1e-8b912ed1dea6",
   "metadata": {},
   "source": [
    "With a loop, the code looks like..."
   ]
  },
  {
   "cell_type": "code",
   "execution_count": 34,
   "id": "743a11f6-b289-4dda-b213-e3330733a553",
   "metadata": {
    "ExecuteTime": {
     "end_time": "2024-02-09T14:57:53.309178Z",
     "start_time": "2024-02-09T14:57:53.260778Z"
    }
   },
   "outputs": [
    {
     "name": "stdout",
     "output_type": "stream",
     "text": [
      "0 1.5\n",
      "1 2.5\n",
      "2 3.5\n"
     ]
    }
   ],
   "source": [
    "# For each column\n",
    "for x in range(3):\n",
    "    # Extract all the elements at X = `x` (aka column)\n",
    "    row = a2d[:,x]\n",
    "    N = len(row)\n",
    "    print(x,sum(row)/N)"
   ]
  },
  {
   "cell_type": "raw",
   "id": "6dde2cfb-200d-4cd0-8b59-6492615d3e26",
   "metadata": {},
   "source": [
    "If you want to calculate means per row, you have to specify the axis. Here, this is the axis 1"
   ]
  },
  {
   "cell_type": "code",
   "execution_count": 35,
   "id": "5843479c-75e8-4abe-bd3a-cb87c5ebf8cb",
   "metadata": {
    "ExecuteTime": {
     "end_time": "2024-02-09T14:57:56.847755Z",
     "start_time": "2024-02-09T14:57:56.828775Z"
    }
   },
   "outputs": [
    {
     "data": {
      "text/plain": "array([1., 4.])"
     },
     "execution_count": 35,
     "metadata": {},
     "output_type": "execute_result"
    }
   ],
   "source": [
    "a2d.mean(axis=1)"
   ]
  },
  {
   "cell_type": "markdown",
   "id": "86a6af0d-a1ab-4826-a9f3-2a7d92c422aa",
   "metadata": {},
   "source": [
    "#### Adding a new axis to an existing array"
   ]
  },
  {
   "cell_type": "code",
   "execution_count": 36,
   "id": "c66ea9da-2514-4a2d-850e-9c8b7e27429a",
   "metadata": {
    "ExecuteTime": {
     "end_time": "2024-02-09T14:58:01.219150Z",
     "start_time": "2024-02-09T14:58:01.162691Z"
    }
   },
   "outputs": [
    {
     "data": {
      "text/plain": "(array([[0, 1, 2, 3]]),\n array([[0],\n        [1],\n        [2],\n        [3]]))"
     },
     "execution_count": 36,
     "metadata": {},
     "output_type": "execute_result"
    }
   ],
   "source": [
    "a = np.arange(4)\n",
    "# Row Vector \n",
    "a2 = a[np.newaxis,:] # Add a new dimension \n",
    "# Column vector\n",
    "a22 = a[:,np.newaxis]\n",
    "a2,a22"
   ]
  },
  {
   "cell_type": "markdown",
   "id": "93210349-4028-4f95-a890-09ca2e34749f",
   "metadata": {},
   "source": [
    "## 3.2. Modifying an array\n"
   ]
  },
  {
   "cell_type": "code",
   "execution_count": 37,
   "id": "447b4367-05fe-4d3d-b0e1-4369adb1b78c",
   "metadata": {
    "ExecuteTime": {
     "end_time": "2024-02-09T14:58:02.902271Z",
     "start_time": "2024-02-09T14:58:02.855496Z"
    }
   },
   "outputs": [
    {
     "data": {
      "text/plain": "(array([ 0,  1,  2,  3,  4, 11, 12, 13, 14, 15]),\n array([ 0,  1,  2,  3,  4, 11, 12, 13, 14, 15]),\n array([ 0,  1,  2,  3,  4, 11, 12, 13, 14, 15]),\n array([[ 0,  1,  2,  3,  4],\n        [11, 12, 13, 14, 15]]))"
     },
     "execution_count": 37,
     "metadata": {},
     "output_type": "execute_result"
    }
   ],
   "source": [
    "# Input\n",
    "a = np.arange(5)\n",
    "b = np.arange(11,16)\n",
    "\n",
    "# Appending b to a -> shape: (10,)\n",
    "ab0 = np.append(a,b)\n",
    "ab1 = np.concatenate([a,b]) \n",
    "ab2 = np.hstack([a,b])\n",
    "\n",
    "# Vertical stacking -> shape: (2,5)\n",
    "ab3 = np.vstack([a,b])\n",
    "ab0,ab1,ab2,ab3"
   ]
  },
  {
   "cell_type": "markdown",
   "id": "8d752128-84b4-489d-9b9c-811af3accdc5",
   "metadata": {},
   "source": [
    "## 4. Exercises\n",
    "\n",
    "> **Note**: Excerpt from \"Numpy 101 Exercises\"."
   ]
  },
  {
   "cell_type": "markdown",
   "id": "133603e8-c7dd-4459-9b53-f01563542364",
   "metadata": {},
   "source": [
    "### 1. How to create a 1D array?\n",
    "\n",
    "Difficulty Level: L1\n",
    "Ezoic\n",
    "\n",
    "Q. Create a 1D array of numbers from 0 to 9\n"
   ]
  },
  {
   "cell_type": "code",
   "execution_count": 40,
   "id": "32141438-3cd0-4b62-be8e-b55ae9b0ab0c",
   "metadata": {
    "ExecuteTime": {
     "end_time": "2024-02-09T14:58:26.063272Z",
     "start_time": "2024-02-09T14:58:26.024401Z"
    }
   },
   "outputs": [],
   "source": [
    "# Type your code, here\n",
    "a = np.arange(10)"
   ]
  },
  {
   "cell_type": "markdown",
   "id": "f18ef97d-5f62-43dd-8ba6-6305a9fecb9a",
   "metadata": {},
   "source": [
    "<details>\n",
    "    <summary>Answer Q1</summary>\n",
    "    <hr>\n",
    "    <pre>\n",
    "arr = np.arange(10)\n",
    "    </pre>\n",
    "</details>"
   ]
  },
  {
   "cell_type": "markdown",
   "id": "30cbf974-d0d1-47a6-b3b4-53db5484ea39",
   "metadata": {},
   "source": [
    "### 2. How to create a boolean array?\n",
    "\n",
    "Difficulty Level: L1\n",
    "\n",
    "Q. Create a 3×3 numpy array of all True’s"
   ]
  },
  {
   "cell_type": "code",
   "execution_count": 41,
   "id": "a818073e-6ac1-4b2b-9f7f-ac2290aff5fd",
   "metadata": {
    "ExecuteTime": {
     "end_time": "2024-02-09T14:58:45.590325Z",
     "start_time": "2024-02-09T14:58:45.533795Z"
    }
   },
   "outputs": [
    {
     "data": {
      "text/plain": "array([[ True,  True,  True],\n       [ True,  True,  True],\n       [ True,  True,  True]])"
     },
     "execution_count": 41,
     "metadata": {},
     "output_type": "execute_result"
    }
   ],
   "source": [
    "# Type your code, here\n",
    "t = np.full((3, 3), True, dtype=bool)\n",
    "t"
   ]
  },
  {
   "cell_type": "markdown",
   "id": "213020eb-1308-496f-a307-8d276bf540f4",
   "metadata": {},
   "source": [
    "<details>\n",
    "    <summary>Answer Q2</summary>\n",
    "    <hr>\n",
    "    <pre>\n",
    "a=np.full((3, 3), True, dtype=bool)\n",
    "\n",
    "\\# Alternate method:\n",
    "b=np.ones((3,3), dtype=bool)\n",
    "    </pre>\n",
    "</details>"
   ]
  },
  {
   "cell_type": "markdown",
   "id": "9521e4c4-9a68-4b85-b39c-36f9465b8cea",
   "metadata": {},
   "source": [
    "### 3. How to extract items that satisfy a given condition from 1D array?\n",
    "\n",
    "Difficulty Level: L1\n",
    "\n",
    "Q. Extract all odd numbers from `arr`."
   ]
  },
  {
   "cell_type": "code",
   "execution_count": 42,
   "id": "f55b99ac-691f-425c-815c-b73233ab44ba",
   "metadata": {
    "ExecuteTime": {
     "end_time": "2024-02-09T15:05:47.306633Z",
     "start_time": "2024-02-09T15:05:47.252535Z"
    }
   },
   "outputs": [
    {
     "data": {
      "text/plain": "array([1, 3, 5, 7, 9])"
     },
     "execution_count": 42,
     "metadata": {},
     "output_type": "execute_result"
    }
   ],
   "source": [
    "# Input\n",
    "arr = np.array([0, 1, 2, 3, 4, 5, 6, 7, 8, 9])\n",
    "\n",
    "# Type your code, here\n",
    "odd = arr[arr % 2 == 1]\n",
    "odd"
   ]
  },
  {
   "cell_type": "markdown",
   "id": "66d52db0-d5a7-4726-a279-fab86ac55ed3",
   "metadata": {},
   "source": [
    "<details>\n",
    "    <summary>Answer Q3</summary>\n",
    "    <hr>\n",
    "    <pre>\n",
    "arr[arr % 2 == 1]\n",
    "    </pre>\n",
    "</details>"
   ]
  },
  {
   "cell_type": "markdown",
   "id": "6eba4595-4eec-40d6-b861-cdacd94081b1",
   "metadata": {},
   "source": [
    "### 4. How to replace items that satisfy a condition with another value in numpy array?\n",
    "\n",
    "Difficulty Level: L1\n",
    "\n",
    "Q. Replace all odd numbers in arr with -1"
   ]
  },
  {
   "cell_type": "code",
   "execution_count": 45,
   "id": "158039e0-6fef-49be-9cdc-b1505551d378",
   "metadata": {
    "ExecuteTime": {
     "end_time": "2024-02-09T15:07:44.250074Z",
     "start_time": "2024-02-09T15:07:44.205901Z"
    }
   },
   "outputs": [
    {
     "data": {
      "text/plain": "[0, -1, 2, -1, 4, -1, 6, -1, 8, -1]"
     },
     "execution_count": 45,
     "metadata": {},
     "output_type": "execute_result"
    }
   ],
   "source": [
    "# Input\n",
    "arr = np.array([0, 1, 2, 3, 4, 5, 6, 7, 8, 9])\n",
    "\n",
    "# Type your code, here\n",
    "repl_odd = [x if x % 2 == 0 else -1 for x in arr]\n",
    "\n",
    "repl_odd"
   ]
  },
  {
   "cell_type": "markdown",
   "id": "5c5982c7-5f35-44fe-9bcd-ea0ec264f3ad",
   "metadata": {},
   "source": [
    "<details>\n",
    "    <summary>Answer Q4</summary>\n",
    "    <hr>\n",
    "    <pre>\n",
    "arr[arr % 2 == 1] = -1\n",
    "    </pre>\n",
    "</details>"
   ]
  },
  {
   "cell_type": "markdown",
   "id": "07046ef0-3e7b-40a3-9015-aa3bd3284b75",
   "metadata": {},
   "source": [
    "### 5. How to replace items that satisfy a condition without affecting the original array?\n",
    "\n",
    "Difficulty Level: L2\n",
    "\n",
    "Q. Replace all odd numbers in `arr` with -1 without changing `arr`."
   ]
  },
  {
   "cell_type": "code",
   "execution_count": 46,
   "id": "3a04e3a7-23b4-466a-95f0-957986873bea",
   "metadata": {
    "ExecuteTime": {
     "end_time": "2024-02-09T15:08:05.678446Z",
     "start_time": "2024-02-09T15:08:05.632636Z"
    }
   },
   "outputs": [
    {
     "data": {
      "text/plain": "array([ 0, -1,  2, -1,  4, -1,  6, -1,  8, -1])"
     },
     "execution_count": 46,
     "metadata": {},
     "output_type": "execute_result"
    }
   ],
   "source": [
    "# Input\n",
    "arr = np.array([0, 1, 2, 3, 4, 5, 6, 7, 8, 9])\n",
    "\n",
    "# Type your code, here\n",
    "out = np.where(arr % 2 == 1, -1, arr)\n",
    "out"
   ]
  },
  {
   "cell_type": "markdown",
   "id": "fa99a9c0-6925-4f52-8615-2f97fb176d81",
   "metadata": {},
   "source": [
    "<details>\n",
    "    <summary>Answer Q5</summary>\n",
    "    <hr>\n",
    "    <pre>\n",
    "out = np.where(arr % 2 == 1, -1, arr)\n",
    "    </pre>\n",
    "</details>"
   ]
  },
  {
   "cell_type": "markdown",
   "id": "6be3769a-05a2-478f-b2e5-be0c1861c73a",
   "metadata": {},
   "source": [
    "### 6. How to reshape an array?\n",
    "\n",
    "Difficulty Level: L1\n",
    "\n",
    "Q. Convert a 1D array of ten elements to a 2D array with 2 rows."
   ]
  },
  {
   "cell_type": "code",
   "execution_count": 47,
   "id": "d1fa4eb0-6a19-4c52-99c4-764fd4bf96e0",
   "metadata": {
    "ExecuteTime": {
     "end_time": "2024-02-09T15:08:34.213206Z",
     "start_time": "2024-02-09T15:08:34.164081Z"
    }
   },
   "outputs": [
    {
     "data": {
      "text/plain": "array([[0, 1, 2, 3, 4],\n       [5, 6, 7, 8, 9]])"
     },
     "execution_count": 47,
     "metadata": {},
     "output_type": "execute_result"
    }
   ],
   "source": [
    "# Type your code, here\n",
    "arr = np.arange(10)\n",
    "arr.reshape(2, -1)"
   ]
  },
  {
   "cell_type": "markdown",
   "id": "35cafa8b-b9ec-46f2-8d4e-4ffb660c3689",
   "metadata": {},
   "source": [
    "<details>\n",
    "    <summary>Answer Q6</summary>\n",
    "    <hr>\n",
    "    <pre>\n",
    "arr = np.arange(10)\n",
    "arr.reshape(2, -1)  # Setting to -1 automatically decides the number of cols\n",
    "    </pre>\n",
    "</details>"
   ]
  },
  {
   "cell_type": "markdown",
   "id": "f3611235-209b-48f2-8063-1fdbf5a98233",
   "metadata": {},
   "source": [
    "### 7. How to stack two arrays vertically?\n",
    "\n",
    "Difficulty Level: L2\n",
    "\n",
    "Q. Stack arrays `a` and `b` vertically"
   ]
  },
  {
   "cell_type": "code",
   "execution_count": 49,
   "id": "fb996e47-8335-48f9-b3db-fd97676c96ef",
   "metadata": {
    "ExecuteTime": {
     "end_time": "2024-02-09T15:09:16.230883Z",
     "start_time": "2024-02-09T15:09:16.154528Z"
    }
   },
   "outputs": [
    {
     "data": {
      "text/plain": "array([[0, 1, 2, 3, 4],\n       [5, 6, 7, 8, 9],\n       [1, 1, 1, 1, 1],\n       [1, 1, 1, 1, 1]])"
     },
     "execution_count": 49,
     "metadata": {},
     "output_type": "execute_result"
    }
   ],
   "source": [
    "a = np.arange(10).reshape(2,-1)\n",
    "b = np.repeat(1, 10).reshape(2,-1)\n",
    "\n",
    "# Type your code, here\n",
    "stacked = np.vstack([a, b])\n",
    "stacked\n",
    "# Expected result\n",
    "#> array([[0, 1, 2, 3, 4],\n",
    "#>        [5, 6, 7, 8, 9],\n",
    "#>        [1, 1, 1, 1, 1],\n",
    "#>        [1, 1, 1, 1, 1]])"
   ]
  },
  {
   "cell_type": "markdown",
   "id": "141dfab5-6fd6-4b4c-95b3-be69e6a68f49",
   "metadata": {},
   "source": [
    "<details>\n",
    "    <summary>Answer Q7</summary>\n",
    "    <hr>\n",
    "    <pre>\n",
    "\n",
    "\\# Method 1:\n",
    "np.concatenate([a, b], axis=0)\n",
    "\n",
    "\\# Method 2:\n",
    "np.vstack([a, b])\n",
    "\n",
    "\\# Method 3:\n",
    "np.r_[a, b]\n",
    "    </pre>\n",
    "</details>"
   ]
  },
  {
   "cell_type": "markdown",
   "id": "8e6bd274-599f-4886-823f-af067218d706",
   "metadata": {},
   "source": [
    "### 8. How to stack two arrays horizontally?\n",
    "\n",
    "Difficulty Level: L2\n",
    "\n",
    "Q. Stack the arrays a and b horizontally.\n"
   ]
  },
  {
   "cell_type": "code",
   "execution_count": 50,
   "id": "1b279180-5c52-4233-bc7f-e33c2c1a6e2e",
   "metadata": {
    "ExecuteTime": {
     "end_time": "2024-02-09T15:09:32.827027Z",
     "start_time": "2024-02-09T15:09:32.778675Z"
    }
   },
   "outputs": [
    {
     "data": {
      "text/plain": "array([[0, 1, 2, 3, 4, 1, 1, 1, 1, 1],\n       [5, 6, 7, 8, 9, 1, 1, 1, 1, 1]])"
     },
     "execution_count": 50,
     "metadata": {},
     "output_type": "execute_result"
    }
   ],
   "source": [
    "a = np.arange(10).reshape(2,-1)\n",
    "b = np.repeat(1, 10).reshape(2,-1)\n",
    "\n",
    "# Type your code, here\n",
    "new = np.hstack([a, b])\n",
    "new\n",
    "\n",
    "# Expected result\n",
    "#> array([[0, 1, 2, 3, 4, 1, 1, 1, 1, 1],\n",
    "#>        [5, 6, 7, 8, 9, 1, 1, 1, 1, 1]])"
   ]
  },
  {
   "cell_type": "markdown",
   "id": "e4be6223-0912-4c51-8951-1c726bf1dd35",
   "metadata": {},
   "source": [
    "<details>\n",
    "    <summary>Answer Q8</summary>\n",
    "    <hr>\n",
    "    <pre>\n",
    "\n",
    "\\# Method 1:\n",
    "np.concatenate([a, b], axis=1)\n",
    "\n",
    "\\# Method 2:\n",
    "np.hstack([a, b])\n",
    "\n",
    "\\# Method 3:\n",
    "np.c_[a, b]\n",
    "    </pre>\n",
    "</details>"
   ]
  },
  {
   "cell_type": "markdown",
   "id": "9225772a-366f-419a-99da-228e3cb46ad9",
   "metadata": {},
   "source": [
    "### 9. How to get the common items between two python numpy arrays?\n",
    "\n",
    "Difficulty Level: L2\n",
    "\n",
    "Q. Get the common items between `a` and `b`"
   ]
  },
  {
   "cell_type": "code",
   "execution_count": 51,
   "id": "032146f8-c04d-46f3-88d3-7068614d9803",
   "metadata": {
    "ExecuteTime": {
     "end_time": "2024-02-09T15:09:53.478969Z",
     "start_time": "2024-02-09T15:09:53.413527Z"
    }
   },
   "outputs": [
    {
     "data": {
      "text/plain": "array([2, 4])"
     },
     "execution_count": 51,
     "metadata": {},
     "output_type": "execute_result"
    }
   ],
   "source": [
    "# Input\n",
    "a = np.array([1,2,3,2,3,4,3,4,5,6])\n",
    "b = np.array([7,2,10,2,7,4,9,4,9,8])\n",
    "\n",
    "# Type your code, here\n",
    "common_items = np.intersect1d(a, b)\n",
    "common_items\n",
    "# Expected result\n",
    "#> array([2, 4])"
   ]
  },
  {
   "cell_type": "markdown",
   "id": "eed8a2f6-527e-49e2-9877-852b3ffd9ed7",
   "metadata": {},
   "source": [
    "<details>\n",
    "    <summary>Answer Q9</summary>\n",
    "    <hr>\n",
    "    <pre>\n",
    "np.intersect1d(a,b)\n",
    "    </pre>\n",
    "</details>"
   ]
  },
  {
   "cell_type": "markdown",
   "id": "c49ba2de-c837-48e0-b44e-9802af3cf5a7",
   "metadata": {},
   "source": [
    "### 10. How to get the positions where elements of two arrays match?\n",
    "\n",
    "Difficulty Level: L2\n",
    "\n",
    "Q. Get the positions where elements of `a` and `b` match."
   ]
  },
  {
   "cell_type": "code",
   "execution_count": 52,
   "id": "30878ea2-985d-4baf-be4c-900795d2a005",
   "metadata": {
    "ExecuteTime": {
     "end_time": "2024-02-09T15:10:46.151303Z",
     "start_time": "2024-02-09T15:10:46.127276Z"
    }
   },
   "outputs": [
    {
     "data": {
      "text/plain": "(array([1, 3, 5, 7]),)"
     },
     "execution_count": 52,
     "metadata": {},
     "output_type": "execute_result"
    }
   ],
   "source": [
    "# Input:\n",
    "a = np.array([1,2,3,2,3,4,3,4,5,6])\n",
    "b = np.array([7,2,10,2,7,4,9,4,9,8])\n",
    "\n",
    "# Type your code, here\n",
    "match = np.where(a == b)\n",
    "match\n",
    "# Expected Output:\n",
    "#> (array([1, 3, 5, 7]),)"
   ]
  },
  {
   "cell_type": "markdown",
   "id": "0f64c4b8-d1db-4237-84a6-617843bc3e15",
   "metadata": {},
   "source": [
    "<details>\n",
    "    <summary>Answer Q10</summary>\n",
    "    <hr>\n",
    "    <pre>\n",
    "np.where(a == b)\n",
    "    </pre>\n",
    "</details>"
   ]
  },
  {
   "cell_type": "markdown",
   "id": "d05e0df2-3dc2-46e7-9f8b-dab39792225d",
   "metadata": {},
   "source": [
    "### 11. How to extract all numbers between a given range from a numpy array?\n",
    "\n",
    "Difficulty Level: L2\n",
    "\n",
    "Q. Get all items from `a` whose values are between 5 and 10."
   ]
  },
  {
   "cell_type": "code",
   "execution_count": 53,
   "id": "4dd00ad4-286e-46c4-a5e4-3f0cd23d29f3",
   "metadata": {
    "ExecuteTime": {
     "end_time": "2024-02-09T15:11:07.210782Z",
     "start_time": "2024-02-09T15:11:07.158973Z"
    }
   },
   "outputs": [
    {
     "data": {
      "text/plain": "array([ 6,  9, 10])"
     },
     "execution_count": 53,
     "metadata": {},
     "output_type": "execute_result"
    }
   ],
   "source": [
    "# Input\n",
    "a = np.array([2, 6, 1, 9, 10, 3, 27])\n",
    "\n",
    "# Type your code, here\n",
    "range = a[(a >= 5) & (a <= 10)]\n",
    "range\n",
    "# Expected Output:\n",
    "# (array([6, 9, 10]),)"
   ]
  },
  {
   "cell_type": "markdown",
   "id": "10943152-3a1e-4d68-b093-eb9893eb83a8",
   "metadata": {},
   "source": [
    "<details>\n",
    "    <summary>Answer Q11</summary>\n",
    "    <hr>\n",
    "    <pre>\n",
    "\n",
    "\\# Method 1\n",
    "index = np.where((a >= 5) & (a <= 10))\n",
    "a[index]\n",
    "\n",
    "\\# Method 2:\n",
    "index = np.where(np.logical_and(a>=5, a<=10))\n",
    "a[index]\n",
    "#> (array([6, 9, 10]),)\n",
    "\n",
    "\\# Method 3: (thanks loganzk!)\n",
    "a[(a >= 5) & (a <= 10)]\n",
    "    </pre>\n",
    "</details>"
   ]
  },
  {
   "cell_type": "markdown",
   "id": "7964bcbd-4b9c-4bb6-bf76-5fb53a4ec191",
   "metadata": {},
   "source": [
    "### 12. How to swap two columns in a 2d numpy array?\n",
    "\n",
    "Difficulty Level: L2\n",
    "\n",
    "Q. Swap columns 1 and 2 in the array arr."
   ]
  },
  {
   "cell_type": "code",
   "execution_count": 55,
   "id": "6f1eca70-f711-490f-a5e6-e4234d1bac85",
   "metadata": {
    "ExecuteTime": {
     "end_time": "2024-02-09T15:11:35.554584Z",
     "start_time": "2024-02-09T15:11:35.508035Z"
    }
   },
   "outputs": [
    {
     "data": {
      "text/plain": "array([[1, 0, 2],\n       [4, 3, 5],\n       [7, 6, 8]])"
     },
     "execution_count": 55,
     "metadata": {},
     "output_type": "execute_result"
    }
   ],
   "source": [
    "# Input\n",
    "arr = np.arange(9).reshape(3,3)\n",
    "\n",
    "# Type your code, here\n",
    "swapped_arr = arr[:,[1,0,2]]\n",
    "swapped_arr\n",
    "# Expected result\n",
    "#> array([[1, 0, 2],\n",
    "#>        [4, 3, 5],\n",
    "#>        [7, 6, 8]])"
   ]
  },
  {
   "cell_type": "markdown",
   "id": "e1626f68-a26c-4a6d-9bf9-fb13b800e82b",
   "metadata": {},
   "source": [
    "<details>\n",
    "    <summary>Answer Q12</summary>\n",
    "    <hr>\n",
    "    <pre>\n",
    "arr[:,[1,0,2]]\n",
    "    </pre>\n",
    "</details>"
   ]
  },
  {
   "cell_type": "markdown",
   "id": "890799d4-4e88-4131-b8c7-47cd80413ba4",
   "metadata": {},
   "source": [
    "### 13. How to swap two rows in a 2d numpy array?\n",
    "\n",
    "Difficulty Level: L2\n",
    "\n",
    "Q. Swap rows 1 and 2 in the array arr:"
   ]
  },
  {
   "cell_type": "code",
   "execution_count": 56,
   "id": "8018dfb9-25a0-4ccb-803b-abdd01670fd0",
   "metadata": {
    "ExecuteTime": {
     "end_time": "2024-02-09T15:12:22.755895Z",
     "start_time": "2024-02-09T15:12:22.709145Z"
    }
   },
   "outputs": [
    {
     "data": {
      "text/plain": "array([[3, 4, 5],\n       [0, 1, 2],\n       [6, 7, 8]])"
     },
     "execution_count": 56,
     "metadata": {},
     "output_type": "execute_result"
    }
   ],
   "source": [
    "# Input\n",
    "arr = np.arange(9).reshape(3,3)\n",
    "\n",
    "# Type your code, here\n",
    "swapped_arr = arr[[1,0,2], :]\n",
    "swapped_arr\n",
    "\n",
    "# Expected result\n",
    "#> array([[3, 4, 5],\n",
    "#>        [0, 1, 2],\n",
    "#>        [6, 7, 8]])"
   ]
  },
  {
   "cell_type": "markdown",
   "id": "ce2ed83c-4c1b-4b97-8581-f81ee540a8e9",
   "metadata": {},
   "source": [
    "<details>\n",
    "    <summary>Answer Q13</summary>\n",
    "    <hr>\n",
    "    <pre>\n",
    "arr[[1,0,2], :]\n",
    "    </pre>\n",
    "</details>"
   ]
  },
  {
   "cell_type": "markdown",
   "id": "a3f16afe-8010-49fb-8526-8aa5d6ed9572",
   "metadata": {},
   "source": [
    "### 14. How to reverse the rows of a 2D array?\n",
    "\n",
    "Difficulty Level: L2\n",
    "\n",
    "Q. Reverse the rows of a 2D array `arr`."
   ]
  },
  {
   "cell_type": "code",
   "execution_count": 57,
   "id": "e9a3dfb8-1a55-453c-b444-90665974e9cf",
   "metadata": {
    "ExecuteTime": {
     "end_time": "2024-02-09T15:12:39.455716Z",
     "start_time": "2024-02-09T15:12:39.406636Z"
    }
   },
   "outputs": [
    {
     "data": {
      "text/plain": "array([[6, 7, 8],\n       [3, 4, 5],\n       [0, 1, 2]])"
     },
     "execution_count": 57,
     "metadata": {},
     "output_type": "execute_result"
    }
   ],
   "source": [
    "# Input\n",
    "arr = np.arange(9).reshape(3,3)\n",
    "\n",
    "# Type your code, here\n",
    "swapped_arr = arr[::-1]\n",
    "swapped_arr\n",
    "\n",
    "# Expected result\n",
    "# array([[6, 7, 8],\n",
    "#        [3, 4, 5],\n",
    "#        [0, 1, 2]])"
   ]
  },
  {
   "cell_type": "markdown",
   "id": "9535bef8-9527-4599-943e-c5627a08cc6e",
   "metadata": {},
   "source": [
    "<details>\n",
    "    <summary>Answer Q14</summary>\n",
    "    <hr>\n",
    "    <pre>\n",
    "    # Solution\n",
    "    arr[::-1]\n",
    "    </pre>\n",
    "</details>"
   ]
  },
  {
   "cell_type": "markdown",
   "id": "7ac00d3e-6ca4-4f63-85a7-5bd8ceb3ffb7",
   "metadata": {},
   "source": [
    "### 15. How to reverse the columns of a 2D array?\n",
    "\n",
    "Difficulty Level: L2\n",
    "\n",
    "Q. Reverse the columns of a 2D array arr."
   ]
  },
  {
   "cell_type": "code",
   "execution_count": null,
   "id": "7a304981-9eff-46ca-b3fc-801e9aa61400",
   "metadata": {},
   "outputs": [],
   "source": [
    "# Input\n",
    "arr = np.arange(9).reshape(3,3)\n",
    "\n",
    "# Type your code, here\n",
    "\n",
    "#> array([[2, 1, 0],\n",
    "#>        [5, 4, 3],\n",
    "#>        [8, 7, 6]])"
   ]
  },
  {
   "cell_type": "markdown",
   "id": "f6ddc2fb-32e1-44af-866b-23656d62ab1f",
   "metadata": {},
   "source": [
    "<details>\n",
    "    <summary>Answer Q15</summary>\n",
    "    <hr>\n",
    "    <pre>\n",
    "# Solution\n",
    "arr[:, ::-1]\n",
    "    </pre>\n",
    "</details>"
   ]
  },
  {
   "cell_type": "markdown",
   "id": "592d32ff-697f-4e7f-bd3b-071a1485b252",
   "metadata": {},
   "source": [
    "## Misc. Exercises (Optional)"
   ]
  },
  {
   "cell_type": "markdown",
   "id": "5a2f9a32-388b-42bc-bcb1-21940719df4d",
   "metadata": {},
   "source": [
    "### 1. How to generate custom sequences in numpy without hardcoding?\n",
    "\n",
    "Difficulty Level: L2\n",
    "\n",
    "Q. Create the following pattern without hardcoding. Use only numpy functions and the below input array `a`."
   ]
  },
  {
   "cell_type": "code",
   "execution_count": null,
   "id": "8bc776ae-76ac-4501-80ca-1abe7c3543f3",
   "metadata": {},
   "outputs": [],
   "source": [
    "# Input:\n",
    "a = np.array([1,2,3])\n",
    "\n",
    "# Type your code, here\n",
    "\n",
    "# Expected result\n",
    "#> array([1, 1, 1, 2, 2, 2, 3, 3, 3, 1, 2, 3, 1, 2, 3, 1, 2, 3])"
   ]
  },
  {
   "cell_type": "markdown",
   "id": "d2f7aed1-6e6e-4c4c-a875-1cdef6ca0f6e",
   "metadata": {},
   "source": [
    "<details>\n",
    "    <summary>Answer Q1</summary>\n",
    "    <hr>\n",
    "    <pre>\n",
    "np.r_[np.repeat(a, 3), np.tile(a, 3)]\n",
    "    </pre>\n",
    "</details>"
   ]
  },
  {
   "cell_type": "markdown",
   "id": "508a388c-fc71-459b-b1ae-cf81dfa11160",
   "metadata": {},
   "source": [
    "### 2. How to create a 2D array containing random floats between 5 and 10?\n",
    "\n",
    "Difficulty Level: L2 - Ezoic\n",
    "\n",
    "Q. Create a 2D array of shape 5x3 to contain random decimal numbers between 5 and 10."
   ]
  },
  {
   "cell_type": "code",
   "execution_count": 59,
   "id": "11b037b5-2881-4ad9-804c-c4644b53d0e8",
   "metadata": {
    "ExecuteTime": {
     "end_time": "2024-02-09T15:13:25.994284Z",
     "start_time": "2024-02-09T15:13:25.937525Z"
    }
   },
   "outputs": [
    {
     "data": {
      "text/plain": "array([[8.79574187, 9.15128698, 8.01787866],\n       [7.24399101, 8.49003284, 6.24238573],\n       [7.08657086, 5.41802603, 7.43318505],\n       [9.84234543, 9.75648095, 7.6891956 ],\n       [7.13554099, 8.0025712 , 6.80408599]])"
     },
     "execution_count": 59,
     "metadata": {},
     "output_type": "execute_result"
    }
   ],
   "source": [
    "# Type your code, here\n",
    "rand_arr = np.random.uniform(5,10, size=(5,3))\n",
    "rand_arr"
   ]
  },
  {
   "cell_type": "markdown",
   "id": "7e4fa93e-29ba-4068-85ea-fd9ecc7fdf80",
   "metadata": {},
   "source": [
    "<details>\n",
    "    <summary>Answer Q2</summary>\n",
    "    <hr>\n",
    "    <pre>\n",
    "\n",
    "\\# Solution Method 1:\n",
    "rand_arr = np.random.randint(low=5, high=10, size=(5,3)) + np.random.random((5,3))\n",
    "\n",
    "\\# Solution Method 2:\n",
    "rand_arr = np.random.uniform(5,10, size=(5,3))\n",
    "print(rand_arr)\n",
    "#> [[ 8.50061025  9.10531502  6.85867783]\n",
    "#>  [ 9.76262069  9.87717411  7.13466701]\n",
    "#>  [ 7.48966403  8.33409158  6.16808631]\n",
    "#>  [ 7.75010551  9.94535696  5.27373226]\n",
    "#>  [ 8.0850361   5.56165518  7.31244004]]\n",
    "    </pre>\n",
    "</details>"
   ]
  },
  {
   "cell_type": "markdown",
   "id": "bf5baae3-0433-4987-acc2-5a6272491f9a",
   "metadata": {},
   "source": [
    "### 3. How to print only 3 decimal places in python "
   ]
  },
  {
   "cell_type": "code",
   "execution_count": 60,
   "id": "63026aff-4439-4b94-a32c-3bc1fea6d8b4",
   "metadata": {
    "ExecuteTime": {
     "end_time": "2024-02-09T15:14:00.757063Z",
     "start_time": "2024-02-09T15:14:00.716270Z"
    }
   },
   "outputs": [
    {
     "data": {
      "text/plain": "array([[8.796, 9.151, 8.018],\n       [7.244, 8.49 , 6.242],\n       [7.087, 5.418, 7.433],\n       [9.842, 9.756, 7.689],\n       [7.136, 8.003, 6.804]])"
     },
     "execution_count": 60,
     "metadata": {},
     "output_type": "execute_result"
    }
   ],
   "source": [
    "# make rand_arr only print 3 decimal places\n",
    "np.set_printoptions(precision=3)\n",
    "rand_arr"
   ]
  },
  {
   "cell_type": "code",
   "outputs": [],
   "source": [],
   "metadata": {
    "collapsed": false
   },
   "id": "6171c724eea53082"
  }
 ],
 "metadata": {
  "kernelspec": {
   "display_name": "Python 3 (ipykernel)",
   "language": "python",
   "name": "python3"
  },
  "language_info": {
   "codemirror_mode": {
    "name": "ipython",
    "version": 3
   },
   "file_extension": ".py",
   "mimetype": "text/x-python",
   "name": "python",
   "nbconvert_exporter": "python",
   "pygments_lexer": "ipython3",
   "version": "3.8.10"
  }
 },
 "nbformat": 4,
 "nbformat_minor": 5
}
